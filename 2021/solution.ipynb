{
 "cells": [
  {
   "cell_type": "markdown",
   "id": "c0b7fa50",
   "metadata": {},
   "source": [
    "# Day 1"
   ]
  },
  {
   "cell_type": "markdown",
   "id": "ea199fbd",
   "metadata": {},
   "source": [
    "https://adventofcode.com/2021/day/1"
   ]
  },
  {
   "cell_type": "code",
   "execution_count": 1,
   "id": "f98e4946",
   "metadata": {},
   "outputs": [],
   "source": [
    "with open(\"./input/1\") as file:\n",
    "    depths = [int(line) for line in file]"
   ]
  },
  {
   "cell_type": "markdown",
   "id": "40cb513f",
   "metadata": {},
   "source": [
    "## Part 1"
   ]
  },
  {
   "cell_type": "code",
   "execution_count": 2,
   "id": "711f443c",
   "metadata": {},
   "outputs": [
    {
     "data": {
      "text/plain": [
       "1477"
      ]
     },
     "execution_count": 2,
     "metadata": {},
     "output_type": "execute_result"
    }
   ],
   "source": [
    "sum(int(d2 > d1) for d1, d2 in zip(depths[:-1], depths[1:]))"
   ]
  },
  {
   "cell_type": "markdown",
   "id": "c65288b4",
   "metadata": {},
   "source": [
    "## Part 2"
   ]
  },
  {
   "cell_type": "code",
   "execution_count": 3,
   "id": "1c40ed5b",
   "metadata": {},
   "outputs": [
    {
     "data": {
      "text/plain": [
       "1523"
      ]
     },
     "execution_count": 3,
     "metadata": {},
     "output_type": "execute_result"
    }
   ],
   "source": [
    "sum(int(d4 > d1) for d1, d4 in zip(depths[:-3], depths[3:]))"
   ]
  },
  {
   "cell_type": "markdown",
   "id": "cf1a5814",
   "metadata": {},
   "source": [
    "# Day 2"
   ]
  },
  {
   "cell_type": "markdown",
   "id": "14d9bc19",
   "metadata": {},
   "source": [
    "https://adventofcode.com/2021/day/2"
   ]
  },
  {
   "cell_type": "code",
   "execution_count": 4,
   "id": "7959f11e",
   "metadata": {},
   "outputs": [],
   "source": [
    "from numpy import array  # I'm lazy"
   ]
  },
  {
   "cell_type": "code",
   "execution_count": 5,
   "id": "750487dd",
   "metadata": {},
   "outputs": [],
   "source": [
    "def parse_instruction(instruction):\n",
    "    direction, _distance = instruction.split()\n",
    "    distance = int(_distance)\n",
    "    if direction == \"forward\":\n",
    "        return (distance, 0)\n",
    "    return (0, (1 if direction == \"down\" else -1) * distance)"
   ]
  },
  {
   "cell_type": "code",
   "execution_count": 6,
   "id": "6363402d",
   "metadata": {},
   "outputs": [],
   "source": [
    "with open(\"./input/2\") as file:\n",
    "    instructions = array([parse_instruction(line) for line in file])"
   ]
  },
  {
   "cell_type": "markdown",
   "id": "03291532",
   "metadata": {},
   "source": [
    "## Part 1"
   ]
  },
  {
   "cell_type": "code",
   "execution_count": 7,
   "id": "c2b140b2",
   "metadata": {},
   "outputs": [],
   "source": [
    "forward_distance, depth = instructions.sum(axis=0)"
   ]
  },
  {
   "cell_type": "code",
   "execution_count": 8,
   "id": "08817193",
   "metadata": {},
   "outputs": [
    {
     "data": {
      "text/plain": [
       "1936494"
      ]
     },
     "execution_count": 8,
     "metadata": {},
     "output_type": "execute_result"
    }
   ],
   "source": [
    "forward_distance * depth"
   ]
  },
  {
   "cell_type": "markdown",
   "id": "d89e86f9",
   "metadata": {},
   "source": [
    "## Part 2"
   ]
  },
  {
   "cell_type": "code",
   "execution_count": 9,
   "id": "9732d6f9",
   "metadata": {},
   "outputs": [],
   "source": [
    "forward_instr, aim_instr = instructions.T"
   ]
  },
  {
   "cell_type": "code",
   "execution_count": 10,
   "id": "e152fd11",
   "metadata": {},
   "outputs": [
    {
     "data": {
      "text/plain": [
       "1997106066"
      ]
     },
     "execution_count": 10,
     "metadata": {},
     "output_type": "execute_result"
    }
   ],
   "source": [
    "sum(forward_instr) * (forward_instr * aim_instr.cumsum()).sum()"
   ]
  },
  {
   "cell_type": "markdown",
   "id": "48037577",
   "metadata": {},
   "source": [
    "# Day 3"
   ]
  },
  {
   "cell_type": "markdown",
   "id": "f7462c1d",
   "metadata": {},
   "source": [
    "https://adventofcode.com/2021/day/3"
   ]
  },
  {
   "cell_type": "code",
   "execution_count": 11,
   "id": "a6c69e42",
   "metadata": {},
   "outputs": [],
   "source": [
    "from numpy import array"
   ]
  },
  {
   "cell_type": "code",
   "execution_count": 12,
   "id": "d466591f",
   "metadata": {},
   "outputs": [],
   "source": [
    "with open(\"./input/3\") as file:\n",
    "    bit_list = array([[int(bit) for bit in line[:-1]] for line in file])"
   ]
  },
  {
   "cell_type": "code",
   "execution_count": 13,
   "id": "5a8bb883",
   "metadata": {},
   "outputs": [],
   "source": [
    "def bits_to_int(bits):\n",
    "    return int(\"\".join([str(bit) for bit in bits]), base=2)"
   ]
  },
  {
   "cell_type": "markdown",
   "id": "1f684675",
   "metadata": {},
   "source": [
    "## Part 1"
   ]
  },
  {
   "cell_type": "code",
   "execution_count": 14,
   "id": "621edfc9",
   "metadata": {},
   "outputs": [],
   "source": [
    "gamma = bits_to_int([\"1\" if avg > 0.5 else \"0\" for avg in bit_list.mean(axis=0)])\n",
    "epsilon = bits_to_int([\"0\" if avg > 0.5 else \"1\" for avg in bit_list.mean(axis=0)])"
   ]
  },
  {
   "cell_type": "code",
   "execution_count": 15,
   "id": "6d924b10",
   "metadata": {},
   "outputs": [
    {
     "data": {
      "text/plain": [
       "4006064"
      ]
     },
     "execution_count": 15,
     "metadata": {},
     "output_type": "execute_result"
    }
   ],
   "source": [
    "gamma * epsilon"
   ]
  },
  {
   "cell_type": "markdown",
   "id": "b3da2dd1",
   "metadata": {},
   "source": [
    "## Part 2"
   ]
  },
  {
   "cell_type": "code",
   "execution_count": 16,
   "id": "eff80caf",
   "metadata": {},
   "outputs": [],
   "source": [
    "def _filter_bits(bit_list, position, gas=\"o2\"):\n",
    "    most_common_bit = int(bit_list[:, position].mean(axis=0) + 0.5)\n",
    "    if gas == \"o2\":\n",
    "        return bit_list[[bits[position] == most_common_bit for bits in bit_list]]\n",
    "    if gas == \"co2\":\n",
    "        return bit_list[[bits[position] == 1 - most_common_bit for bits in bit_list]]\n",
    "    raise ValueError(f\"Expected o2 or co2 gas, got {gas}.\")"
   ]
  },
  {
   "cell_type": "code",
   "execution_count": 17,
   "id": "8b399381",
   "metadata": {},
   "outputs": [],
   "source": [
    "def reduce_bits(bit_list, gas=\"o2\"):\n",
    "    current_list = bit_list\n",
    "    for position in range(bit_list.shape[1]):\n",
    "        current_list = _filter_bits(current_list, position, gas)\n",
    "        if len(current_list) == 1:\n",
    "            return current_list[0]\n",
    "    raise RuntimeError(\"Did not find a unique result\")"
   ]
  },
  {
   "cell_type": "code",
   "execution_count": 18,
   "id": "78366c2a",
   "metadata": {},
   "outputs": [
    {
     "data": {
      "text/plain": [
       "5941884"
      ]
     },
     "execution_count": 18,
     "metadata": {},
     "output_type": "execute_result"
    }
   ],
   "source": [
    "bits_to_int(reduce_bits(bit_list, \"o2\")) * bits_to_int(reduce_bits(bit_list, \"co2\"))"
   ]
  },
  {
   "cell_type": "markdown",
   "id": "133d51b9",
   "metadata": {},
   "source": [
    "# Day 4"
   ]
  },
  {
   "cell_type": "markdown",
   "id": "965bf347",
   "metadata": {},
   "source": [
    "https://adventofcode.com/2021/day/4 (for another type of games involving a squid, see [here](https://en.wikipedia.org/wiki/Squid_Game))"
   ]
  },
  {
   "cell_type": "code",
   "execution_count": 19,
   "id": "ceb37402",
   "metadata": {},
   "outputs": [],
   "source": [
    "from numpy import array"
   ]
  },
  {
   "cell_type": "code",
   "execution_count": 20,
   "id": "82ec719d",
   "metadata": {},
   "outputs": [],
   "source": [
    "with open(\"./input/4\") as file:\n",
    "    calls = [int(num) for num in next(file).split(\",\")]\n",
    "    _ = next(file)  # second line is empty\n",
    "    boards = []\n",
    "    _board = []\n",
    "    for line in file:\n",
    "        if line == \"\\n\":\n",
    "            boards.append(_board)\n",
    "            _board = []\n",
    "            continue\n",
    "        _board.append([int(s) for s in line.split()])"
   ]
  },
  {
   "cell_type": "code",
   "execution_count": 21,
   "id": "375f9c7e",
   "metadata": {},
   "outputs": [],
   "source": [
    "def call_number(board, number):\n",
    "    for i in range(len(board)):\n",
    "        for j in range(len(board[i])):\n",
    "            if board[i][j] == number:\n",
    "                return i, j"
   ]
  },
  {
   "cell_type": "code",
   "execution_count": 22,
   "id": "86eb111d",
   "metadata": {},
   "outputs": [],
   "source": [
    "def has_won(board_calls, board_height, board_width):\n",
    "    full_rows = [[(i, j) for j in range(board_width)] for i in range(board_height)]\n",
    "    full_cols = [[(i, j) for i in range(board_height)] for j in range(board_width)]\n",
    "    return (any(all(coord in board_calls for coord in full_row) for full_row in full_rows)\n",
    "            or any(all(coord in board_calls for coord in full_col) for full_col in full_cols))"
   ]
  },
  {
   "cell_type": "markdown",
   "id": "77b66232",
   "metadata": {},
   "source": [
    "## Part 1"
   ]
  },
  {
   "cell_type": "code",
   "execution_count": 23,
   "id": "4c06edc1",
   "metadata": {},
   "outputs": [],
   "source": [
    "def bingo(boards, calls):\n",
    "    state = {i: [] for i in range(len(boards))}\n",
    "    for call in calls:\n",
    "        for i, board in enumerate(boards):\n",
    "            call_position = call_number(board, call)\n",
    "            if call_position:\n",
    "                board_state = state[i]\n",
    "                board_state.append(call_position)\n",
    "                if has_won(board_state, len(board), len(board[1])):  # B I N G O\n",
    "                    unmarked = sum(board[i][j] for i in range(len(board)) for j in range(len(board[i]))\n",
    "                                   if (i, j) not in board_state)\n",
    "                    return unmarked * call"
   ]
  },
  {
   "cell_type": "code",
   "execution_count": 24,
   "id": "1fbb088f",
   "metadata": {},
   "outputs": [
    {
     "data": {
      "text/plain": [
       "10680"
      ]
     },
     "execution_count": 24,
     "metadata": {},
     "output_type": "execute_result"
    }
   ],
   "source": [
    "bingo(boards, calls)"
   ]
  },
  {
   "cell_type": "markdown",
   "id": "1dd0abf4",
   "metadata": {},
   "source": [
    "## Part 2"
   ]
  },
  {
   "cell_type": "code",
   "execution_count": 25,
   "id": "8cd5f87e",
   "metadata": {},
   "outputs": [],
   "source": [
    "def losing_bingo(boards, calls):\n",
    "    state = {i: [] for i in range(len(boards))}\n",
    "    remaining_boards = set(range(len(boards)))\n",
    "    for call in calls:\n",
    "        for i, board in enumerate(boards):\n",
    "            if i not in remaining_boards:\n",
    "                continue\n",
    "            call_position = call_number(board, call)\n",
    "            if call_position:\n",
    "                board_state = state[i]\n",
    "                board_state.append(call_position)\n",
    "                if has_won(board_state, len(board), len(board[1])):\n",
    "                    if len(remaining_boards) > 1:\n",
    "                        remaining_boards.remove(i)\n",
    "                        continue\n",
    "                    unmarked = sum(board[i][j] for i in range(len(board)) for j in range(len(board[i]))\n",
    "                                   if (i, j) not in board_state)\n",
    "                    return unmarked * call"
   ]
  },
  {
   "cell_type": "code",
   "execution_count": 26,
   "id": "19042185",
   "metadata": {},
   "outputs": [
    {
     "data": {
      "text/plain": [
       "31892"
      ]
     },
     "execution_count": 26,
     "metadata": {},
     "output_type": "execute_result"
    }
   ],
   "source": [
    "losing_bingo(boards, calls)"
   ]
  },
  {
   "cell_type": "markdown",
   "id": "2e8dd415",
   "metadata": {},
   "source": [
    "# Day 5\n",
    "\n",
    "https://adventofcode.com/2021/day/5"
   ]
  },
  {
   "cell_type": "code",
   "execution_count": 27,
   "id": "ad802640",
   "metadata": {},
   "outputs": [],
   "source": [
    "from collections import defaultdict"
   ]
  },
  {
   "cell_type": "code",
   "execution_count": 28,
   "id": "a4c35a0f",
   "metadata": {},
   "outputs": [],
   "source": [
    "def parse_coord(coord):\n",
    "    x, y = coord.split(\",\")\n",
    "    return int(x), int(y)"
   ]
  },
  {
   "cell_type": "code",
   "execution_count": 29,
   "id": "cd11d610",
   "metadata": {},
   "outputs": [],
   "source": [
    "with open(\"./input/5\") as file:\n",
    "    lines = [[parse_coord(start), parse_coord(end)]\n",
    "             for start, end in [line.split(\" -> \") for line in file.read().splitlines()]]"
   ]
  },
  {
   "cell_type": "code",
   "execution_count": 30,
   "id": "522ff82a",
   "metadata": {},
   "outputs": [],
   "source": [
    "def points_in_line(start, end):\n",
    "    (start_x, start_y), (end_x, end_y) = sorted([start, end])\n",
    "    if start_x == end_x:  # vertical\n",
    "        return [(start_x, y) for y in range(start_y, end_y + 1)]\n",
    "    if start_y == end_y:  # horizontal\n",
    "        return [(x, start_y) for x in range(start_x, end_x + 1)]\n",
    "    if start_y < end_y:  # \"upwards\" diagonal\n",
    "        return [(start_x + i, start_y + i) for i in range(end_x - start_x + 1)]\n",
    "    # \"downwards\" diagonal\n",
    "    return [(start_x + i, start_y - i) for i in range(end_x - start_x + 1)]"
   ]
  },
  {
   "cell_type": "markdown",
   "id": "d484a111",
   "metadata": {},
   "source": [
    "## Part 1"
   ]
  },
  {
   "cell_type": "code",
   "execution_count": 31,
   "id": "97d40a07",
   "metadata": {},
   "outputs": [],
   "source": [
    "def fill_grid_no_diagonals():\n",
    "    grid = defaultdict(lambda: 0)\n",
    "    for start, end in lines:\n",
    "        if start[0] != end[0] and start[1] != end[1]:\n",
    "            continue\n",
    "        for point in points_in_line(start, end):\n",
    "            grid[point] += 1\n",
    "    return grid"
   ]
  },
  {
   "cell_type": "code",
   "execution_count": 32,
   "id": "b8f04907",
   "metadata": {},
   "outputs": [
    {
     "data": {
      "text/plain": [
       "4993"
      ]
     },
     "execution_count": 32,
     "metadata": {},
     "output_type": "execute_result"
    }
   ],
   "source": [
    "sum(1 for point, overlap in fill_grid_no_diagonals().items() if overlap > 1)"
   ]
  },
  {
   "cell_type": "markdown",
   "id": "86e685b8",
   "metadata": {},
   "source": [
    "## Part 2"
   ]
  },
  {
   "cell_type": "code",
   "execution_count": 33,
   "id": "06946ed8",
   "metadata": {},
   "outputs": [],
   "source": [
    "def fill_grid():\n",
    "    grid = defaultdict(lambda: 0)\n",
    "    for start, end in lines:\n",
    "        for point in points_in_line(start, end):\n",
    "            grid[point] += 1\n",
    "    return grid"
   ]
  },
  {
   "cell_type": "code",
   "execution_count": 34,
   "id": "c700f7db",
   "metadata": {},
   "outputs": [
    {
     "data": {
      "text/plain": [
       "21101"
      ]
     },
     "execution_count": 34,
     "metadata": {},
     "output_type": "execute_result"
    }
   ],
   "source": [
    "sum(1 for point, overlap in fill_grid().items() if overlap > 1)"
   ]
  },
  {
   "cell_type": "markdown",
   "id": "1741093c",
   "metadata": {},
   "source": [
    "# Day 6\n",
    "\n",
    "https://adventofcode.com/2021/day/6"
   ]
  },
  {
   "cell_type": "code",
   "execution_count": 35,
   "id": "fb62beb0",
   "metadata": {},
   "outputs": [],
   "source": [
    "with open(\"./input/6\") as file:\n",
    "    timers = [int(timer) for timer in file.read().split(\",\")]"
   ]
  },
  {
   "cell_type": "code",
   "execution_count": 36,
   "id": "5288f991",
   "metadata": {},
   "outputs": [],
   "source": [
    "count_by_timer = {timer: 0 for timer in range(9)}\n",
    "for timer in timers:\n",
    "    count_by_timer[timer] += 1"
   ]
  },
  {
   "cell_type": "code",
   "execution_count": 37,
   "id": "6bf31ec2",
   "metadata": {},
   "outputs": [],
   "source": [
    "def update_count(count_by_timer):\n",
    "    new_count = {k - 1: v for k, v in count_by_timer.items() if k > 0}\n",
    "    zero_count = count_by_timer[0]\n",
    "    new_count[8] = zero_count\n",
    "    new_count[6] += zero_count\n",
    "    return new_count"
   ]
  },
  {
   "cell_type": "code",
   "execution_count": 38,
   "id": "f2f1cb03",
   "metadata": {},
   "outputs": [],
   "source": [
    "def run(count_by_timer, nturns):\n",
    "    for _ in range(nturns):\n",
    "        count_by_timer = update_count(count_by_timer)\n",
    "    return count_by_timer"
   ]
  },
  {
   "cell_type": "markdown",
   "id": "1559b5b7",
   "metadata": {},
   "source": [
    "## Part 1"
   ]
  },
  {
   "cell_type": "code",
   "execution_count": 39,
   "id": "ad940bf0",
   "metadata": {},
   "outputs": [
    {
     "data": {
      "text/plain": [
       "390011"
      ]
     },
     "execution_count": 39,
     "metadata": {},
     "output_type": "execute_result"
    }
   ],
   "source": [
    "sum(run(count_by_timer, 80).values())"
   ]
  },
  {
   "cell_type": "markdown",
   "id": "265ed1eb",
   "metadata": {},
   "source": [
    "## Part 2"
   ]
  },
  {
   "cell_type": "code",
   "execution_count": 40,
   "id": "d1ed984f",
   "metadata": {},
   "outputs": [
    {
     "data": {
      "text/plain": [
       "1746710169834"
      ]
     },
     "execution_count": 40,
     "metadata": {},
     "output_type": "execute_result"
    }
   ],
   "source": [
    "sum(run(count_by_timer, 256).values())"
   ]
  },
  {
   "cell_type": "markdown",
   "id": "f4d79c65",
   "metadata": {},
   "source": [
    "# Day 7\n",
    "\n",
    "https://adventofcode.com/2021/day/7"
   ]
  },
  {
   "cell_type": "code",
   "execution_count": 41,
   "id": "599ef34a",
   "metadata": {},
   "outputs": [],
   "source": [
    "with open(\"./input/7\") as file:\n",
    "    positions = [int(p) for p in file.read().split(\",\")]"
   ]
  },
  {
   "cell_type": "markdown",
   "id": "1bfa06ca",
   "metadata": {},
   "source": [
    "## Part 1"
   ]
  },
  {
   "cell_type": "code",
   "execution_count": 42,
   "id": "00e542d1",
   "metadata": {},
   "outputs": [
    {
     "data": {
      "text/plain": [
       "347449"
      ]
     },
     "execution_count": 42,
     "metadata": {},
     "output_type": "execute_result"
    }
   ],
   "source": [
    "min(sum(abs(position - n) for position in positions) for n in range(max(positions)))"
   ]
  },
  {
   "cell_type": "markdown",
   "id": "34386c0d",
   "metadata": {},
   "source": [
    "## Part 2"
   ]
  },
  {
   "cell_type": "code",
   "execution_count": 43,
   "id": "8d609f87",
   "metadata": {},
   "outputs": [],
   "source": [
    "def fuel(diff):\n",
    "    return int(diff * (diff + 1) / 2)"
   ]
  },
  {
   "cell_type": "code",
   "execution_count": 44,
   "id": "d46c486a",
   "metadata": {},
   "outputs": [
    {
     "data": {
      "text/plain": [
       "98039527"
      ]
     },
     "execution_count": 44,
     "metadata": {},
     "output_type": "execute_result"
    }
   ],
   "source": [
    "min(sum(fuel(abs(position - n)) for position in positions) for n in range(max(positions)))"
   ]
  },
  {
   "cell_type": "markdown",
   "id": "63172569",
   "metadata": {},
   "source": [
    "# Day 8\n",
    "\n",
    "https://adventofcode.com/2021/day/8"
   ]
  },
  {
   "cell_type": "code",
   "execution_count": 45,
   "id": "e6b0cd75",
   "metadata": {},
   "outputs": [],
   "source": [
    "with open(\"./input/8\") as file:\n",
    "    patterns, numbers = zip(*[[string.split() for string in line.split(\" | \")]\n",
    "                              for line in file.read().splitlines()])"
   ]
  },
  {
   "cell_type": "markdown",
   "id": "b9131cf1",
   "metadata": {},
   "source": [
    "## Part 1"
   ]
  },
  {
   "cell_type": "code",
   "execution_count": 46,
   "id": "bcc3ee2e",
   "metadata": {},
   "outputs": [
    {
     "data": {
      "text/plain": [
       "321"
      ]
     },
     "execution_count": 46,
     "metadata": {},
     "output_type": "execute_result"
    }
   ],
   "source": [
    "sum(1 for number in numbers for digit in number if len(digit) in [2, 3, 4, 7])"
   ]
  },
  {
   "cell_type": "markdown",
   "id": "53103d0f",
   "metadata": {},
   "source": [
    "## Part 2"
   ]
  },
  {
   "cell_type": "code",
   "execution_count": 47,
   "id": "b7520679",
   "metadata": {},
   "outputs": [],
   "source": [
    "proper_display = {\n",
    "    'cf': 1,\n",
    "    'acf': 7,\n",
    "    'bcdf': 4,\n",
    "    'acdeg': 2,\n",
    "    'acdfg': 3,\n",
    "    'abdfg': 5,\n",
    "    'abcefg': 0,\n",
    "    'abdefg': 6,\n",
    "    'abcdfg': 9,\n",
    "    'abcdefg': 8,\n",
    "}"
   ]
  },
  {
   "cell_type": "code",
   "execution_count": 48,
   "id": "b0856b7d",
   "metadata": {},
   "outputs": [],
   "source": [
    "from itertools import permutations"
   ]
  },
  {
   "cell_type": "code",
   "execution_count": 49,
   "id": "db353595",
   "metadata": {},
   "outputs": [],
   "source": [
    "def shuffle(number, permutation):\n",
    "    return \"\".join(sorted(\"abcdefg\"[permutation[\"abcdefg\".index(char)]] for char in number))"
   ]
  },
  {
   "cell_type": "code",
   "execution_count": 50,
   "id": "093460c8",
   "metadata": {},
   "outputs": [],
   "source": [
    "true_numbers = set(proper_display)"
   ]
  },
  {
   "cell_type": "code",
   "execution_count": 51,
   "id": "8aaf453a",
   "metadata": {},
   "outputs": [],
   "source": [
    "decoded_list = []\n",
    "for pattern, number in zip(patterns, numbers):\n",
    "    for permutation in permutations(range(7)):\n",
    "        if set(shuffle(pattern_digit, permutation) for pattern_digit in pattern) == true_numbers:\n",
    "            decoded_list.append(sum(10 ** (len(number) - i - 1) * proper_display[shuffle(digit, permutation)]\n",
    "                                    for i, digit in enumerate(number)))\n",
    "            break"
   ]
  },
  {
   "cell_type": "code",
   "execution_count": 52,
   "id": "70770a03",
   "metadata": {},
   "outputs": [
    {
     "data": {
      "text/plain": [
       "1028926"
      ]
     },
     "execution_count": 52,
     "metadata": {},
     "output_type": "execute_result"
    }
   ],
   "source": [
    "sum(decoded_list)"
   ]
  },
  {
   "cell_type": "markdown",
   "id": "5498134a",
   "metadata": {},
   "source": [
    "# Day 9\n",
    "\n",
    "https://adventofcode.com/2021/day/9"
   ]
  },
  {
   "cell_type": "code",
   "execution_count": 53,
   "id": "be63a854",
   "metadata": {},
   "outputs": [],
   "source": [
    "with open(\"./input/9\") as file:\n",
    "    heights = [[int(c) for c in line] for line in file.read().splitlines()]"
   ]
  },
  {
   "cell_type": "code",
   "execution_count": 54,
   "id": "41499711",
   "metadata": {},
   "outputs": [],
   "source": [
    "def get_neighbours(i, j, heights):\n",
    "    return [\n",
    "        neighbour for neighbour in [(i - 1, j), (i + 1, j), (i, j - 1), (i, j + 1)]\n",
    "        if 0 <= neighbour[0] < len(heights) and 0 <= neighbour[1] < len(heights[i])\n",
    "    ]"
   ]
  },
  {
   "cell_type": "markdown",
   "id": "66db209e",
   "metadata": {},
   "source": [
    "## Part 1"
   ]
  },
  {
   "cell_type": "code",
   "execution_count": 55,
   "id": "6df6946e",
   "metadata": {},
   "outputs": [],
   "source": [
    "low_points = []\n",
    "for i in range(len(heights)):\n",
    "    for j in range(len(heights[i])):\n",
    "        neighbours = get_neighbours(i, j, heights)\n",
    "        if all(heights[i][j] < heights[neighbour[0]][neighbour[1]]\n",
    "               for neighbour in neighbours):\n",
    "            low_points.append((i, j))"
   ]
  },
  {
   "cell_type": "code",
   "execution_count": 56,
   "id": "b5c0ce1c",
   "metadata": {},
   "outputs": [
    {
     "data": {
      "text/plain": [
       "423"
      ]
     },
     "execution_count": 56,
     "metadata": {},
     "output_type": "execute_result"
    }
   ],
   "source": [
    "sum(heights[i][j] for i, j in low_points) + len(low_points)"
   ]
  },
  {
   "cell_type": "markdown",
   "id": "30b52e1c",
   "metadata": {},
   "source": [
    "## Part 2"
   ]
  },
  {
   "cell_type": "code",
   "execution_count": 57,
   "id": "f5281a27",
   "metadata": {},
   "outputs": [],
   "source": [
    "def get_basins(heights):\n",
    "    basins = {}\n",
    "    unexplored = {(i, j) for i in range(len(heights)) for j in range(len(heights[i]))\n",
    "                  if heights[i][j] < 9}\n",
    "    while unexplored:\n",
    "        point = unexplored.pop()\n",
    "        non_peak_neighbours = {(i, j) for (i, j) in get_neighbours(*point, heights) if heights[i][j] < 9}\n",
    "\n",
    "        touched_basins = [(basin_center, basin) for basin_center, basin in basins.items()\n",
    "                          if any(neighbour in basin for neighbour in non_peak_neighbours)]\n",
    "        \n",
    "        if not touched_basins:\n",
    "            basins[point] = {point} | non_peak_neighbours\n",
    "            continue\n",
    "\n",
    "        main_basin, *other_basins = touched_basins\n",
    "\n",
    "        main_basin[1].update({point} | non_peak_neighbours)\n",
    "\n",
    "        for other_basin_center, other_basin in other_basins:\n",
    "            main_basin[1].update(other_basin)\n",
    "            del basins[other_basin_center]\n",
    "    return basins"
   ]
  },
  {
   "cell_type": "code",
   "execution_count": 58,
   "id": "c393d51d",
   "metadata": {},
   "outputs": [],
   "source": [
    "from functools import reduce\n",
    "from operator import mul"
   ]
  },
  {
   "cell_type": "code",
   "execution_count": 59,
   "id": "98642def",
   "metadata": {},
   "outputs": [
    {
     "data": {
      "text/plain": [
       "1198704"
      ]
     },
     "execution_count": 59,
     "metadata": {},
     "output_type": "execute_result"
    }
   ],
   "source": [
    "reduce(mul, sorted([len(basin) for basin in get_basins(heights).values()])[-3:], 1)"
   ]
  },
  {
   "cell_type": "markdown",
   "id": "d4878bbb",
   "metadata": {},
   "source": [
    "# Day 10\n",
    "\n",
    "https://adventofcode.com/2021/day/10"
   ]
  },
  {
   "cell_type": "code",
   "execution_count": 60,
   "id": "6b39d50a",
   "metadata": {},
   "outputs": [],
   "source": [
    "with open(\"./input/10\") as file:\n",
    "    lines = file.read().splitlines()"
   ]
  },
  {
   "cell_type": "code",
   "execution_count": 61,
   "id": "3d392341",
   "metadata": {},
   "outputs": [],
   "source": [
    "chars = {\n",
    "    \"(\": \")\",\n",
    "    \"[\": \"]\",\n",
    "    \"{\": \"}\",\n",
    "    \"<\": \">\",\n",
    "}"
   ]
  },
  {
   "cell_type": "code",
   "execution_count": 62,
   "id": "4893205c",
   "metadata": {},
   "outputs": [],
   "source": [
    "def first_invalid(line):\n",
    "    pile = []\n",
    "    for char in line:\n",
    "        if char in chars:\n",
    "            pile.append(char)\n",
    "            continue\n",
    "        if not pile or char != chars[pile[-1]]:\n",
    "            return char\n",
    "        pile.pop()"
   ]
  },
  {
   "cell_type": "markdown",
   "id": "2c1d6da9",
   "metadata": {},
   "source": [
    "## Part 1"
   ]
  },
  {
   "cell_type": "code",
   "execution_count": 63,
   "id": "cdf63dc4",
   "metadata": {},
   "outputs": [],
   "source": [
    "error_scores = {\n",
    "    \")\": 3,\n",
    "    \"]\": 57,\n",
    "    \"}\": 1197,\n",
    "    \">\": 25137,\n",
    "}"
   ]
  },
  {
   "cell_type": "code",
   "execution_count": 64,
   "id": "4f9a5ca9",
   "metadata": {},
   "outputs": [
    {
     "data": {
      "text/plain": [
       "243939"
      ]
     },
     "execution_count": 64,
     "metadata": {},
     "output_type": "execute_result"
    }
   ],
   "source": [
    "sum(error_scores.get(first_invalid(line), 0) for line in lines)"
   ]
  },
  {
   "cell_type": "markdown",
   "id": "d15a03db",
   "metadata": {},
   "source": [
    "## Part 2"
   ]
  },
  {
   "cell_type": "code",
   "execution_count": 65,
   "id": "9ab273f8",
   "metadata": {},
   "outputs": [],
   "source": [
    "autocomplete_scores = {\n",
    "    \")\": 1,\n",
    "    \"]\": 2,\n",
    "    \"}\": 3,\n",
    "    \">\": 4,\n",
    "}"
   ]
  },
  {
   "cell_type": "code",
   "execution_count": 66,
   "id": "a096aea6",
   "metadata": {},
   "outputs": [],
   "source": [
    "def fix_line(line):\n",
    "    pile = []\n",
    "    for char in line:\n",
    "        if char in chars:\n",
    "            pile.append(char)\n",
    "            continue\n",
    "        last_open = pile.pop()\n",
    "        assert char == chars[last_open]\n",
    "    return [chars[open_char] for open_char in pile[::-1]]"
   ]
  },
  {
   "cell_type": "code",
   "execution_count": 67,
   "id": "0ce76dec",
   "metadata": {},
   "outputs": [],
   "source": [
    "def get_score(fix):\n",
    "    score = 0\n",
    "    for char in fix:\n",
    "        score = score * 5 + autocomplete_scores[char]\n",
    "    return score"
   ]
  },
  {
   "cell_type": "code",
   "execution_count": 68,
   "id": "00bbeec1",
   "metadata": {},
   "outputs": [],
   "source": [
    "incomplete_lines = [line for line in lines if not first_invalid(line)]"
   ]
  },
  {
   "cell_type": "code",
   "execution_count": 69,
   "id": "e05183e4",
   "metadata": {},
   "outputs": [
    {
     "data": {
      "text/plain": [
       "2421222841"
      ]
     },
     "execution_count": 69,
     "metadata": {},
     "output_type": "execute_result"
    }
   ],
   "source": [
    "sorted(get_score(fix_line(line)) for line in incomplete_lines)[(len(incomplete_lines) - 1) // 2]"
   ]
  }
 ],
 "metadata": {
  "kernelspec": {
   "display_name": "Python 3 (ipykernel)",
   "language": "python",
   "name": "python3"
  },
  "language_info": {
   "codemirror_mode": {
    "name": "ipython",
    "version": 3
   },
   "file_extension": ".py",
   "mimetype": "text/x-python",
   "name": "python",
   "nbconvert_exporter": "python",
   "pygments_lexer": "ipython3",
   "version": "3.9.7"
  }
 },
 "nbformat": 4,
 "nbformat_minor": 5
}
