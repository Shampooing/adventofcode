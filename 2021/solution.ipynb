{
 "cells": [
  {
   "cell_type": "markdown",
   "id": "c0b7fa50",
   "metadata": {},
   "source": [
    "# Day 1"
   ]
  },
  {
   "cell_type": "markdown",
   "id": "ea199fbd",
   "metadata": {},
   "source": [
    "https://adventofcode.com/2021/day/1"
   ]
  },
  {
   "cell_type": "code",
   "execution_count": 1,
   "id": "f98e4946",
   "metadata": {},
   "outputs": [],
   "source": [
    "with open(\"./input/1\") as file:\n",
    "    depths = [int(line) for line in file]"
   ]
  },
  {
   "cell_type": "markdown",
   "id": "40cb513f",
   "metadata": {},
   "source": [
    "## Part 1"
   ]
  },
  {
   "cell_type": "code",
   "execution_count": 2,
   "id": "711f443c",
   "metadata": {},
   "outputs": [
    {
     "data": {
      "text/plain": [
       "1477"
      ]
     },
     "execution_count": 2,
     "metadata": {},
     "output_type": "execute_result"
    }
   ],
   "source": [
    "sum(int(d2 > d1) for d1, d2 in zip(depths[:-1], depths[1:]))"
   ]
  },
  {
   "cell_type": "markdown",
   "id": "c65288b4",
   "metadata": {},
   "source": [
    "## Part 2"
   ]
  },
  {
   "cell_type": "code",
   "execution_count": 3,
   "id": "1c40ed5b",
   "metadata": {},
   "outputs": [
    {
     "data": {
      "text/plain": [
       "1523"
      ]
     },
     "execution_count": 3,
     "metadata": {},
     "output_type": "execute_result"
    }
   ],
   "source": [
    "sum(int(d4 > d1) for d1, d4 in zip(depths[:-3], depths[3:]))"
   ]
  },
  {
   "cell_type": "markdown",
   "id": "cf1a5814",
   "metadata": {},
   "source": [
    "# Day 2"
   ]
  },
  {
   "cell_type": "markdown",
   "id": "14d9bc19",
   "metadata": {},
   "source": [
    "https://adventofcode.com/2021/day/2"
   ]
  },
  {
   "cell_type": "code",
   "execution_count": 4,
   "id": "7959f11e",
   "metadata": {},
   "outputs": [],
   "source": [
    "from numpy import array  # I'm lazy"
   ]
  },
  {
   "cell_type": "code",
   "execution_count": 5,
   "id": "750487dd",
   "metadata": {},
   "outputs": [],
   "source": [
    "def parse_instruction(instruction):\n",
    "    direction, _distance = instruction.split()\n",
    "    distance = int(_distance)\n",
    "    if direction == \"forward\":\n",
    "        return (distance, 0)\n",
    "    return (0, (1 if direction == \"down\" else -1) * distance)"
   ]
  },
  {
   "cell_type": "code",
   "execution_count": 6,
   "id": "6363402d",
   "metadata": {},
   "outputs": [],
   "source": [
    "with open(\"./input/2\") as file:\n",
    "    instructions = array([parse_instruction(line) for line in file])"
   ]
  },
  {
   "cell_type": "markdown",
   "id": "03291532",
   "metadata": {},
   "source": [
    "## Part 1"
   ]
  },
  {
   "cell_type": "code",
   "execution_count": 7,
   "id": "c2b140b2",
   "metadata": {},
   "outputs": [],
   "source": [
    "forward_distance, depth = instructions.sum(axis=0)"
   ]
  },
  {
   "cell_type": "code",
   "execution_count": 8,
   "id": "08817193",
   "metadata": {},
   "outputs": [
    {
     "data": {
      "text/plain": [
       "1936494"
      ]
     },
     "execution_count": 8,
     "metadata": {},
     "output_type": "execute_result"
    }
   ],
   "source": [
    "forward_distance * depth"
   ]
  },
  {
   "cell_type": "markdown",
   "id": "d89e86f9",
   "metadata": {},
   "source": [
    "## Part 2"
   ]
  },
  {
   "cell_type": "code",
   "execution_count": 9,
   "id": "9732d6f9",
   "metadata": {},
   "outputs": [],
   "source": [
    "forward_instr, aim_instr = instructions.T"
   ]
  },
  {
   "cell_type": "code",
   "execution_count": 10,
   "id": "e152fd11",
   "metadata": {},
   "outputs": [
    {
     "data": {
      "text/plain": [
       "1997106066"
      ]
     },
     "execution_count": 10,
     "metadata": {},
     "output_type": "execute_result"
    }
   ],
   "source": [
    "sum(forward_instr) * (forward_instr * aim_instr.cumsum()).sum()"
   ]
  },
  {
   "cell_type": "markdown",
   "id": "48037577",
   "metadata": {},
   "source": [
    "# Day 3"
   ]
  },
  {
   "cell_type": "code",
   "execution_count": 11,
   "id": "a6c69e42",
   "metadata": {},
   "outputs": [],
   "source": [
    "from numpy import array"
   ]
  },
  {
   "cell_type": "code",
   "execution_count": 12,
   "id": "d466591f",
   "metadata": {},
   "outputs": [],
   "source": [
    "with open(\"./input/3\") as file:\n",
    "    bit_list = array([[int(bit) for bit in line[:-1]] for line in file])"
   ]
  },
  {
   "cell_type": "code",
   "execution_count": 13,
   "id": "5a8bb883",
   "metadata": {},
   "outputs": [],
   "source": [
    "def bits_to_int(bits):\n",
    "    return int(\"\".join([str(bit) for bit in bits]), base=2)"
   ]
  },
  {
   "cell_type": "markdown",
   "id": "1f684675",
   "metadata": {},
   "source": [
    "## Part 1"
   ]
  },
  {
   "cell_type": "code",
   "execution_count": 14,
   "id": "621edfc9",
   "metadata": {},
   "outputs": [],
   "source": [
    "gamma = bits_to_int([\"1\" if avg > 0.5 else \"0\" for avg in bit_list.mean(axis=0)])\n",
    "epsilon = bits_to_int([\"0\" if avg > 0.5 else \"1\" for avg in bit_list.mean(axis=0)])"
   ]
  },
  {
   "cell_type": "code",
   "execution_count": 15,
   "id": "6d924b10",
   "metadata": {},
   "outputs": [
    {
     "data": {
      "text/plain": [
       "4006064"
      ]
     },
     "execution_count": 15,
     "metadata": {},
     "output_type": "execute_result"
    }
   ],
   "source": [
    "gamma * epsilon"
   ]
  },
  {
   "cell_type": "markdown",
   "id": "b3da2dd1",
   "metadata": {},
   "source": [
    "## Part 2"
   ]
  },
  {
   "cell_type": "code",
   "execution_count": 16,
   "id": "eff80caf",
   "metadata": {},
   "outputs": [],
   "source": [
    "def _filter_bits(bit_list, position, gas=\"o2\"):\n",
    "    most_common_bit = int(bit_list[:, position].mean(axis=0) + 0.5)\n",
    "    if gas == \"o2\":\n",
    "        return bit_list[[bits[position] == most_common_bit for bits in bit_list]]\n",
    "    if gas == \"co2\":\n",
    "        return bit_list[[bits[position] == 1 - most_common_bit for bits in bit_list]]\n",
    "    raise ValueError(f\"Expected o2 or co2 gas, got {gas}.\")"
   ]
  },
  {
   "cell_type": "code",
   "execution_count": 17,
   "id": "8b399381",
   "metadata": {},
   "outputs": [],
   "source": [
    "def reduce_bits(bit_list, gas=\"o2\"):\n",
    "    current_list = bit_list\n",
    "    for position in range(bit_list.shape[1]):\n",
    "        current_list = _filter_bits(current_list, position, gas)\n",
    "        if len(current_list) == 1:\n",
    "            return current_list[0]\n",
    "    raise RuntimeError(\"Did not find a unique result\")"
   ]
  },
  {
   "cell_type": "code",
   "execution_count": 18,
   "id": "78366c2a",
   "metadata": {},
   "outputs": [
    {
     "data": {
      "text/plain": [
       "5941884"
      ]
     },
     "execution_count": 18,
     "metadata": {},
     "output_type": "execute_result"
    }
   ],
   "source": [
    "bits_to_int(reduce_bits(bit_list, \"o2\")) * bits_to_int(reduce_bits(bit_list, \"co2\"))"
   ]
  }
 ],
 "metadata": {
  "kernelspec": {
   "display_name": "Python 3 (ipykernel)",
   "language": "python",
   "name": "python3"
  },
  "language_info": {
   "codemirror_mode": {
    "name": "ipython",
    "version": 3
   },
   "file_extension": ".py",
   "mimetype": "text/x-python",
   "name": "python",
   "nbconvert_exporter": "python",
   "pygments_lexer": "ipython3",
   "version": "3.9.7"
  }
 },
 "nbformat": 4,
 "nbformat_minor": 5
}
