{
 "cells": [
  {
   "cell_type": "markdown",
   "id": "c0b7fa50",
   "metadata": {},
   "source": [
    "# Day 1"
   ]
  },
  {
   "cell_type": "markdown",
   "id": "ea199fbd",
   "metadata": {},
   "source": [
    "https://adventofcode.com/2021/day/1"
   ]
  },
  {
   "cell_type": "code",
   "execution_count": 1,
   "id": "f98e4946",
   "metadata": {},
   "outputs": [],
   "source": [
    "with open(\"./input/1\") as file:\n",
    "    depths = [int(line) for line in file]"
   ]
  },
  {
   "cell_type": "markdown",
   "id": "40cb513f",
   "metadata": {},
   "source": [
    "## Part 1"
   ]
  },
  {
   "cell_type": "code",
   "execution_count": 2,
   "id": "711f443c",
   "metadata": {},
   "outputs": [
    {
     "data": {
      "text/plain": [
       "1477"
      ]
     },
     "execution_count": 2,
     "metadata": {},
     "output_type": "execute_result"
    }
   ],
   "source": [
    "sum(int(d2 > d1) for d1, d2 in zip(depths[:-1], depths[1:]))"
   ]
  },
  {
   "cell_type": "markdown",
   "id": "c65288b4",
   "metadata": {},
   "source": [
    "## Part 2"
   ]
  },
  {
   "cell_type": "code",
   "execution_count": 3,
   "id": "1c40ed5b",
   "metadata": {},
   "outputs": [
    {
     "data": {
      "text/plain": [
       "1523"
      ]
     },
     "execution_count": 3,
     "metadata": {},
     "output_type": "execute_result"
    }
   ],
   "source": [
    "sum(int(d4 > d1) for d1, d4 in zip(depths[:-3], depths[3:]))"
   ]
  },
  {
   "cell_type": "markdown",
   "id": "cf1a5814",
   "metadata": {},
   "source": [
    "# Day 2"
   ]
  },
  {
   "cell_type": "markdown",
   "id": "14d9bc19",
   "metadata": {},
   "source": [
    "https://adventofcode.com/2021/day/2"
   ]
  },
  {
   "cell_type": "code",
   "execution_count": 4,
   "id": "7959f11e",
   "metadata": {},
   "outputs": [],
   "source": [
    "from numpy import array  # I'm lazy"
   ]
  },
  {
   "cell_type": "code",
   "execution_count": 5,
   "id": "750487dd",
   "metadata": {},
   "outputs": [],
   "source": [
    "def parse_instruction(instruction):\n",
    "    direction, _distance = instruction.split()\n",
    "    distance = int(_distance)\n",
    "    if direction == \"forward\":\n",
    "        return (distance, 0)\n",
    "    return (0, (1 if direction == \"down\" else -1) * distance)"
   ]
  },
  {
   "cell_type": "code",
   "execution_count": 6,
   "id": "6363402d",
   "metadata": {},
   "outputs": [],
   "source": [
    "with open(\"./input/2\") as file:\n",
    "    instructions = array([parse_instruction(line) for line in file])"
   ]
  },
  {
   "cell_type": "markdown",
   "id": "03291532",
   "metadata": {},
   "source": [
    "## Part 1"
   ]
  },
  {
   "cell_type": "code",
   "execution_count": 7,
   "id": "c2b140b2",
   "metadata": {},
   "outputs": [],
   "source": [
    "forward_distance, depth = instructions.sum(axis=0)"
   ]
  },
  {
   "cell_type": "code",
   "execution_count": 8,
   "id": "08817193",
   "metadata": {},
   "outputs": [
    {
     "data": {
      "text/plain": [
       "1936494"
      ]
     },
     "execution_count": 8,
     "metadata": {},
     "output_type": "execute_result"
    }
   ],
   "source": [
    "forward_distance * depth"
   ]
  },
  {
   "cell_type": "markdown",
   "id": "d89e86f9",
   "metadata": {},
   "source": [
    "## Part 2"
   ]
  },
  {
   "cell_type": "code",
   "execution_count": 9,
   "id": "9732d6f9",
   "metadata": {},
   "outputs": [],
   "source": [
    "forward_instr, aim_instr = instructions.T"
   ]
  },
  {
   "cell_type": "code",
   "execution_count": 10,
   "id": "e152fd11",
   "metadata": {},
   "outputs": [
    {
     "data": {
      "text/plain": [
       "1997106066"
      ]
     },
     "execution_count": 10,
     "metadata": {},
     "output_type": "execute_result"
    }
   ],
   "source": [
    "sum(forward_instr) * (forward_instr * aim_instr.cumsum()).sum()"
   ]
  },
  {
   "cell_type": "markdown",
   "id": "48037577",
   "metadata": {},
   "source": [
    "# Day 3"
   ]
  },
  {
   "cell_type": "markdown",
   "id": "ffe8c69d",
   "metadata": {},
   "source": [
    "https://adventofcode.com/2021/day/3"
   ]
  },
  {
   "cell_type": "code",
   "execution_count": 11,
   "id": "a6c69e42",
   "metadata": {},
   "outputs": [],
   "source": [
    "from numpy import array"
   ]
  },
  {
   "cell_type": "code",
   "execution_count": 12,
   "id": "d466591f",
   "metadata": {},
   "outputs": [],
   "source": [
    "with open(\"./input/3\") as file:\n",
    "    bit_list = array([[int(bit) for bit in line[:-1]] for line in file])"
   ]
  },
  {
   "cell_type": "code",
   "execution_count": 13,
   "id": "5a8bb883",
   "metadata": {},
   "outputs": [],
   "source": [
    "def bits_to_int(bits):\n",
    "    return int(\"\".join([str(bit) for bit in bits]), base=2)"
   ]
  },
  {
   "cell_type": "markdown",
   "id": "1f684675",
   "metadata": {},
   "source": [
    "## Part 1"
   ]
  },
  {
   "cell_type": "code",
   "execution_count": 14,
   "id": "621edfc9",
   "metadata": {},
   "outputs": [],
   "source": [
    "gamma = bits_to_int([\"1\" if avg > 0.5 else \"0\" for avg in bit_list.mean(axis=0)])\n",
    "epsilon = bits_to_int([\"0\" if avg > 0.5 else \"1\" for avg in bit_list.mean(axis=0)])"
   ]
  },
  {
   "cell_type": "code",
   "execution_count": 15,
   "id": "6d924b10",
   "metadata": {},
   "outputs": [
    {
     "data": {
      "text/plain": [
       "4006064"
      ]
     },
     "execution_count": 15,
     "metadata": {},
     "output_type": "execute_result"
    }
   ],
   "source": [
    "gamma * epsilon"
   ]
  },
  {
   "cell_type": "markdown",
   "id": "b3da2dd1",
   "metadata": {},
   "source": [
    "## Part 2"
   ]
  },
  {
   "cell_type": "code",
   "execution_count": 16,
   "id": "eff80caf",
   "metadata": {},
   "outputs": [],
   "source": [
    "def _filter_bits(bit_list, position, gas=\"o2\"):\n",
    "    most_common_bit = int(bit_list[:, position].mean(axis=0) + 0.5)\n",
    "    if gas == \"o2\":\n",
    "        return bit_list[[bits[position] == most_common_bit for bits in bit_list]]\n",
    "    if gas == \"co2\":\n",
    "        return bit_list[[bits[position] == 1 - most_common_bit for bits in bit_list]]\n",
    "    raise ValueError(f\"Expected o2 or co2 gas, got {gas}.\")"
   ]
  },
  {
   "cell_type": "code",
   "execution_count": 17,
   "id": "8b399381",
   "metadata": {},
   "outputs": [],
   "source": [
    "def reduce_bits(bit_list, gas=\"o2\"):\n",
    "    current_list = bit_list\n",
    "    for position in range(bit_list.shape[1]):\n",
    "        current_list = _filter_bits(current_list, position, gas)\n",
    "        if len(current_list) == 1:\n",
    "            return current_list[0]\n",
    "    raise RuntimeError(\"Did not find a unique result\")"
   ]
  },
  {
   "cell_type": "code",
   "execution_count": 18,
   "id": "78366c2a",
   "metadata": {},
   "outputs": [
    {
     "data": {
      "text/plain": [
       "5941884"
      ]
     },
     "execution_count": 18,
     "metadata": {},
     "output_type": "execute_result"
    }
   ],
   "source": [
    "bits_to_int(reduce_bits(bit_list, \"o2\")) * bits_to_int(reduce_bits(bit_list, \"co2\"))"
   ]
  },
  {
   "cell_type": "markdown",
   "id": "55c4f52c",
   "metadata": {},
   "source": [
    "# Day 4"
   ]
  },
  {
   "cell_type": "markdown",
   "id": "856cc1fa",
   "metadata": {},
   "source": [
    "https://adventofcode.com/2021/day/4"
   ]
  },
  {
   "cell_type": "code",
   "execution_count": 19,
   "id": "ee35defe",
   "metadata": {},
   "outputs": [],
   "source": [
    "from numpy import array"
   ]
  },
  {
   "cell_type": "code",
   "execution_count": 20,
   "id": "565d5087",
   "metadata": {},
   "outputs": [],
   "source": [
    "with open(\"./input/4\") as file:\n",
    "    calls = [int(num) for num in next(file).split(\",\")]\n",
    "    _ = next(file)  # second line is empty\n",
    "    boards = []\n",
    "    _board = []\n",
    "    for line in file:\n",
    "        if line == \"\\n\":\n",
    "            boards.append(_board)\n",
    "            _board = []\n",
    "            continue\n",
    "        _board.append([int(s) for s in line.split()])"
   ]
  },
  {
   "cell_type": "code",
   "execution_count": 21,
   "id": "4d3f8534",
   "metadata": {},
   "outputs": [],
   "source": [
    "def call_number(board, number):\n",
    "    for i in range(len(board)):\n",
    "        for j in range(len(board[i])):\n",
    "            if board[i][j] == number:\n",
    "                return i, j"
   ]
  },
  {
   "cell_type": "code",
   "execution_count": 22,
   "id": "a4214685",
   "metadata": {},
   "outputs": [],
   "source": [
    "def has_won(board_calls, board_height, board_width):\n",
    "    full_rows = [[(i, j) for j in range(board_width)] for i in range(board_height)]\n",
    "    full_cols = [[(i, j) for i in range(board_height)] for j in range(board_width)]\n",
    "    return (any(all(coord in board_calls for coord in full_row) for full_row in full_rows)\n",
    "            or any(all(coord in board_calls for coord in full_col) for full_col in full_cols))"
   ]
  },
  {
   "cell_type": "markdown",
   "id": "67a58f90",
   "metadata": {},
   "source": [
    "## Part 1"
   ]
  },
  {
   "cell_type": "code",
   "execution_count": 23,
   "id": "59b063a2",
   "metadata": {},
   "outputs": [],
   "source": [
    "def bingo(boards, calls):\n",
    "    state = {i: [] for i in range(len(boards))}\n",
    "    for call in calls:\n",
    "        for i, board in enumerate(boards):\n",
    "            call_position = call_number(board, call)\n",
    "            if call_position:\n",
    "                board_state = state[i]\n",
    "                board_state.append(call_position)\n",
    "                if has_won(board_state, len(board), len(board[1])):  # B I N G O\n",
    "                    unmarked = sum(board[i][j] for i in range(len(board)) for j in range(len(board[i]))\n",
    "                                   if (i, j) not in board_state)\n",
    "                    return unmarked * call"
   ]
  },
  {
   "cell_type": "code",
   "execution_count": 24,
   "id": "fa42a9fd",
   "metadata": {},
   "outputs": [
    {
     "data": {
      "text/plain": [
       "10680"
      ]
     },
     "execution_count": 24,
     "metadata": {},
     "output_type": "execute_result"
    }
   ],
   "source": [
    "bingo(boards, calls)"
   ]
  },
  {
   "cell_type": "markdown",
   "id": "1687cfe0",
   "metadata": {},
   "source": [
    "## Part 2"
   ]
  },
  {
   "cell_type": "code",
   "execution_count": 25,
   "id": "1b69c239",
   "metadata": {},
   "outputs": [],
   "source": [
    "def losing_bingo(boards, calls):\n",
    "    state = {i: [] for i in range(len(boards))}\n",
    "    remaining_boards = set(range(len(boards)))\n",
    "    for call in calls:\n",
    "        for i, board in enumerate(boards):\n",
    "            if i not in remaining_boards:\n",
    "                continue\n",
    "            call_position = call_number(board, call)\n",
    "            if call_position:\n",
    "                board_state = state[i]\n",
    "                board_state.append(call_position)\n",
    "                if has_won(board_state, len(board), len(board[1])):\n",
    "                    if len(remaining_boards) > 1:\n",
    "                        remaining_boards.remove(i)\n",
    "                        continue\n",
    "                    unmarked = sum(board[i][j] for i in range(len(board)) for j in range(len(board[i]))\n",
    "                                   if (i, j) not in board_state)\n",
    "                    return unmarked * call"
   ]
  },
  {
   "cell_type": "code",
   "execution_count": 26,
   "id": "24650475",
   "metadata": {},
   "outputs": [
    {
     "data": {
      "text/plain": [
       "31892"
      ]
     },
     "execution_count": 26,
     "metadata": {},
     "output_type": "execute_result"
    }
   ],
   "source": [
    "losing_bingo(boards, calls)"
   ]
  },
  {
   "cell_type": "markdown",
   "id": "6e5bdc0e",
   "metadata": {},
   "source": [
    "# Day 5\n",
    "\n",
    "https://adventofcode.com/2021/day/5"
   ]
  },
  {
   "cell_type": "code",
   "execution_count": 27,
   "id": "8e470160",
   "metadata": {},
   "outputs": [],
   "source": [
    "from collections import defaultdict"
   ]
  },
  {
   "cell_type": "code",
   "execution_count": 28,
   "id": "5d39ef69",
   "metadata": {},
   "outputs": [],
   "source": [
    "def parse_coord(coord):\n",
    "    x, y = coord.split(\",\")\n",
    "    return int(x), int(y)"
   ]
  },
  {
   "cell_type": "code",
   "execution_count": 29,
   "id": "a7062bc9",
   "metadata": {},
   "outputs": [],
   "source": [
    "with open(\"./input/5\") as file:\n",
    "    lines = [[parse_coord(start), parse_coord(end)]\n",
    "             for start, end in [line.split(\" -> \") for line in file.read().splitlines()]]"
   ]
  },
  {
   "cell_type": "code",
   "execution_count": 30,
   "id": "2354af50",
   "metadata": {},
   "outputs": [],
   "source": [
    "def points_in_line(start, end):\n",
    "    (start_x, start_y), (end_x, end_y) = sorted([start, end])\n",
    "    if start_x == end_x:  # vertical\n",
    "        return [(start_x, y) for y in range(start_y, end_y + 1)]\n",
    "    if start_y == end_y:  # horizontal\n",
    "        return [(x, start_y) for x in range(start_x, end_x + 1)]\n",
    "    if start_y < end_y:  # \"upwards\" diagonal\n",
    "        return [(start_x + i, start_y + i) for i in range(end_x - start_x + 1)]\n",
    "    # \"downwards\" diagonal\n",
    "    return [(start_x + i, start_y - i) for i in range(end_x - start_x + 1)]"
   ]
  },
  {
   "cell_type": "markdown",
   "id": "5f1a706d",
   "metadata": {},
   "source": [
    "## Part 1"
   ]
  },
  {
   "cell_type": "code",
   "execution_count": 31,
   "id": "4d5bb760",
   "metadata": {},
   "outputs": [],
   "source": [
    "def fill_grid_no_diagonals():\n",
    "    grid = defaultdict(lambda: 0)\n",
    "    for start, end in lines:\n",
    "        if start[0] != end[0] and start[1] != end[1]:\n",
    "            continue\n",
    "        for point in points_in_line(start, end):\n",
    "            grid[point] += 1\n",
    "    return grid"
   ]
  },
  {
   "cell_type": "code",
   "execution_count": 32,
   "id": "2fa8361c",
   "metadata": {},
   "outputs": [
    {
     "data": {
      "text/plain": [
       "4993"
      ]
     },
     "execution_count": 32,
     "metadata": {},
     "output_type": "execute_result"
    }
   ],
   "source": [
    "sum(1 for point, overlap in fill_grid_no_diagonals().items() if overlap > 1)"
   ]
  },
  {
   "cell_type": "markdown",
   "id": "3a6df254",
   "metadata": {},
   "source": [
    "## Part 2"
   ]
  },
  {
   "cell_type": "code",
   "execution_count": 33,
   "id": "661cd6b2",
   "metadata": {},
   "outputs": [],
   "source": [
    "def fill_grid():\n",
    "    grid = defaultdict(lambda: 0)\n",
    "    for start, end in lines:\n",
    "        for point in points_in_line(start, end):\n",
    "            grid[point] += 1\n",
    "    return grid"
   ]
  },
  {
   "cell_type": "code",
   "execution_count": 34,
   "id": "b8396cf2",
   "metadata": {},
   "outputs": [
    {
     "data": {
      "text/plain": [
       "21101"
      ]
     },
     "execution_count": 34,
     "metadata": {},
     "output_type": "execute_result"
    }
   ],
   "source": [
    "sum(1 for point, overlap in fill_grid().items() if overlap > 1)"
   ]
  }
 ],
 "metadata": {
  "kernelspec": {
   "display_name": "Python 3 (ipykernel)",
   "language": "python",
   "name": "python3"
  },
  "language_info": {
   "codemirror_mode": {
    "name": "ipython",
    "version": 3
   },
   "file_extension": ".py",
   "mimetype": "text/x-python",
   "name": "python",
   "nbconvert_exporter": "python",
   "pygments_lexer": "ipython3",
   "version": "3.9.7"
  }
 },
 "nbformat": 4,
 "nbformat_minor": 5
}
