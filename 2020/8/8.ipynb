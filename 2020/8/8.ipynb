{
 "cells": [
  {
   "cell_type": "code",
   "execution_count": 1,
   "metadata": {},
   "outputs": [],
   "source": [
    "parse_row = lambda split_row: (split_row[0], int(split_row[1]))\n",
    "with open('input', 'r') as ifile:\n",
    "    instructions = [parse_row(row.split(' ')) for row in ifile]"
   ]
  },
  {
   "cell_type": "code",
   "execution_count": 2,
   "metadata": {},
   "outputs": [],
   "source": [
    "def run(instructions, index = 0, acc = 0, visited_before = set()):\n",
    "    if index in visited_before:\n",
    "        return acc, index\n",
    "    if index >= len(instructions):\n",
    "        return acc, index\n",
    "    op, arg = instructions[index]\n",
    "    return run(instructions, index + (arg if op == 'jmp' else 1),\n",
    "               acc + (arg if op == 'acc' else 0), visited_before | {index})"
   ]
  },
  {
   "cell_type": "markdown",
   "metadata": {},
   "source": [
    "# Part 1"
   ]
  },
  {
   "cell_type": "code",
   "execution_count": 3,
   "metadata": {},
   "outputs": [
    {
     "data": {
      "text/plain": [
       "(1134, 372)"
      ]
     },
     "execution_count": 3,
     "metadata": {},
     "output_type": "execute_result"
    }
   ],
   "source": [
    "run(instructions)"
   ]
  },
  {
   "cell_type": "markdown",
   "metadata": {},
   "source": [
    "# Part 2"
   ]
  },
  {
   "cell_type": "code",
   "execution_count": 4,
   "metadata": {},
   "outputs": [],
   "source": [
    "patch_candidates = [i for (i, (op, _)) in enumerate(instructions) if op in ('jmp', 'nop')]"
   ]
  },
  {
   "cell_type": "code",
   "execution_count": 5,
   "metadata": {},
   "outputs": [],
   "source": [
    "def patch(instructions, index):\n",
    "    new_instructions = list(instructions)\n",
    "    op, arg = new_instructions[index]\n",
    "    new_instructions[index] = ('jpm' if op == 'nop' else 'nop'), arg\n",
    "    return new_instructions"
   ]
  },
  {
   "cell_type": "code",
   "execution_count": 6,
   "metadata": {},
   "outputs": [
    {
     "name": "stdout",
     "output_type": "stream",
     "text": [
      "1205\n"
     ]
    }
   ],
   "source": [
    "for patch_candidate in patch_candidates:\n",
    "    patched = patch(instructions, patch_candidate)\n",
    "    res, last_instruction = run(patched)\n",
    "    if last_instruction == len(instructions):\n",
    "        print(res)\n",
    "        break"
   ]
  }
 ],
 "metadata": {
  "kernelspec": {
   "display_name": "Python 3",
   "language": "python",
   "name": "python3"
  },
  "language_info": {
   "codemirror_mode": {
    "name": "ipython",
    "version": 3
   },
   "file_extension": ".py",
   "mimetype": "text/x-python",
   "name": "python",
   "nbconvert_exporter": "python",
   "pygments_lexer": "ipython3",
   "version": "3.8.6"
  }
 },
 "nbformat": 4,
 "nbformat_minor": 4
}
