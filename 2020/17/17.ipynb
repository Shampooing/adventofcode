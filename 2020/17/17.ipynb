{
 "cells": [
  {
   "cell_type": "code",
   "execution_count": 1,
   "metadata": {},
   "outputs": [],
   "source": [
    "from itertools import product"
   ]
  },
  {
   "cell_type": "code",
   "execution_count": 2,
   "metadata": {},
   "outputs": [],
   "source": [
    "def neighbours(point):\n",
    "    delta = [-1, 0, 1]\n",
    "    for d in product(delta, repeat=len(point)):\n",
    "        if any(d):\n",
    "            yield tuple(x + dx for x, dx in zip(point, d))"
   ]
  },
  {
   "cell_type": "code",
   "execution_count": 3,
   "metadata": {},
   "outputs": [],
   "source": [
    "def active_neighbours(point, state):\n",
    "    return sum(state.get(neighbour, 0) for neighbour in neighbours(point))"
   ]
  },
  {
   "cell_type": "code",
   "execution_count": 4,
   "metadata": {},
   "outputs": [],
   "source": [
    "def _run(state, grid_boundaries):\n",
    "    new_state = {}\n",
    "    new_grid_boundaries = [(_min - 1, _max + 1) for _min, _max in grid_boundaries]\n",
    "    for point in product(*(range(_min, _max) for _min, _max in new_grid_boundaries)):\n",
    "        n_active_neighbours = active_neighbours(point, state)\n",
    "        if (state.get(point, 0) and n_active_neighbours == 2) or n_active_neighbours == 3:\n",
    "            new_state[point] = 1\n",
    "    return new_state, new_grid_boundaries"
   ]
  },
  {
   "cell_type": "code",
   "execution_count": 5,
   "metadata": {},
   "outputs": [],
   "source": [
    "def _boundaries(state, axis):\n",
    "    projection = [point[axis] for point in state]\n",
    "    return min(projection), max(projection) + 1"
   ]
  },
  {
   "cell_type": "code",
   "execution_count": 6,
   "metadata": {},
   "outputs": [],
   "source": [
    "def run(init_state, nsteps):\n",
    "    state = init_state\n",
    "    grid_boundaries = [_boundaries(state, axis) for axis in range(len(next(iter(state))))]\n",
    "    for _ in range(nsteps):\n",
    "        state, grid_boundaries = _run(state, grid_boundaries)\n",
    "    return state"
   ]
  },
  {
   "cell_type": "markdown",
   "metadata": {},
   "source": [
    "# Part 1"
   ]
  },
  {
   "cell_type": "code",
   "execution_count": 7,
   "metadata": {},
   "outputs": [],
   "source": [
    "with open('input', 'r') as ifile:\n",
    "    state = {(i, j, 0): 1 for i, row in enumerate(ifile.read().splitlines())\n",
    "             for j, coord_state in enumerate(row) if coord_state == '#'}"
   ]
  },
  {
   "cell_type": "code",
   "execution_count": 8,
   "metadata": {},
   "outputs": [
    {
     "data": {
      "text/plain": [
       "223"
      ]
     },
     "execution_count": 8,
     "metadata": {},
     "output_type": "execute_result"
    }
   ],
   "source": [
    "sum(run(state, 6).values())"
   ]
  },
  {
   "cell_type": "markdown",
   "metadata": {},
   "source": [
    "# Part 2"
   ]
  },
  {
   "cell_type": "code",
   "execution_count": 9,
   "metadata": {},
   "outputs": [
    {
     "data": {
      "text/plain": [
       "1884"
      ]
     },
     "execution_count": 9,
     "metadata": {},
     "output_type": "execute_result"
    }
   ],
   "source": [
    "sum(run({(i, j, 0, 0): 1 for (i, j, _) in state}, 6).values())"
   ]
  }
 ],
 "metadata": {
  "kernelspec": {
   "display_name": "Python 3",
   "language": "python",
   "name": "python3"
  },
  "language_info": {
   "codemirror_mode": {
    "name": "ipython",
    "version": 3
   },
   "file_extension": ".py",
   "mimetype": "text/x-python",
   "name": "python",
   "nbconvert_exporter": "python",
   "pygments_lexer": "ipython3",
   "version": "3.8.6"
  }
 },
 "nbformat": 4,
 "nbformat_minor": 4
}
