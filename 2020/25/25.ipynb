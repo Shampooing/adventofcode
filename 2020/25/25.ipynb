{
 "cells": [
  {
   "cell_type": "code",
   "execution_count": 1,
   "metadata": {},
   "outputs": [],
   "source": [
    "def loop(value, subject_number):\n",
    "    return (value * subject_number) % 20201227"
   ]
  },
  {
   "cell_type": "code",
   "execution_count": 2,
   "metadata": {},
   "outputs": [],
   "source": [
    "def transform(subject_number, loop_size):\n",
    "    value = 1\n",
    "    for _ in range(loop_size):\n",
    "        value = loop(value, subject_number)\n",
    "    return value"
   ]
  },
  {
   "cell_type": "code",
   "execution_count": 3,
   "metadata": {},
   "outputs": [],
   "source": [
    "def guess_loop_size(subject_number, pubkeys):\n",
    "    value = 1\n",
    "    loop_size = 0\n",
    "    while value not in pubkeys:\n",
    "        loop_size += 1\n",
    "        value = loop(value, subject_number)\n",
    "    return loop_size, next(pubkey for pubkey in pubkeys if pubkey == value)"
   ]
  },
  {
   "cell_type": "code",
   "execution_count": 4,
   "metadata": {},
   "outputs": [],
   "source": [
    "with open('input', 'r') as ifile:\n",
    "    pubkey1, pubkey2 = (int(key) for key in ifile)"
   ]
  },
  {
   "cell_type": "code",
   "execution_count": 5,
   "metadata": {},
   "outputs": [
    {
     "data": {
      "text/plain": [
       "7032853"
      ]
     },
     "execution_count": 5,
     "metadata": {},
     "output_type": "execute_result"
    }
   ],
   "source": [
    "transform(pubkey2, guess_loop_size(7, [pubkey1])[0])"
   ]
  }
 ],
 "metadata": {
  "kernelspec": {
   "display_name": "Python 3",
   "language": "python",
   "name": "python3"
  },
  "language_info": {
   "codemirror_mode": {
    "name": "ipython",
    "version": 3
   },
   "file_extension": ".py",
   "mimetype": "text/x-python",
   "name": "python",
   "nbconvert_exporter": "python",
   "pygments_lexer": "ipython3",
   "version": "3.8.6"
  }
 },
 "nbformat": 4,
 "nbformat_minor": 4
}
