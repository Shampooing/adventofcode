{
 "cells": [
  {
   "cell_type": "code",
   "execution_count": 12,
   "metadata": {},
   "outputs": [],
   "source": [
    "with open('input', 'r') as ifile:\n",
    "    seq = [int(s) for s in ifile.read().splitlines()]"
   ]
  },
  {
   "cell_type": "markdown",
   "metadata": {},
   "source": [
    "# Part 1"
   ]
  },
  {
   "cell_type": "code",
   "execution_count": 13,
   "metadata": {},
   "outputs": [],
   "source": [
    "def is_2sum(preamble, num):\n",
    "    return any(preamble[i1] + preamble[i2] == num\n",
    "               for i1 in range(len(preamble) - 1)\n",
    "               for i2 in range(i1 + 1, len(preamble)))"
   ]
  },
  {
   "cell_type": "code",
   "execution_count": 14,
   "metadata": {},
   "outputs": [],
   "source": [
    "def first_vuln(seq, preamble_len):\n",
    "    return next(seq[i + preamble_len] for i in range(len(seq) - preamble_len)\n",
    "                if not is_2sum(seq[i: i + preamble_len], seq[i + preamble_len]))"
   ]
  },
  {
   "cell_type": "code",
   "execution_count": 16,
   "metadata": {},
   "outputs": [
    {
     "data": {
      "text/plain": [
       "50047984"
      ]
     },
     "execution_count": 16,
     "metadata": {},
     "output_type": "execute_result"
    }
   ],
   "source": [
    "first_vuln(seq, 25)"
   ]
  },
  {
   "cell_type": "markdown",
   "metadata": {},
   "source": [
    "# Part 2"
   ]
  },
  {
   "cell_type": "code",
   "execution_count": 17,
   "metadata": {},
   "outputs": [],
   "source": [
    "def contiguous_sum(seq, target, start = 0):\n",
    "    for i in range(start + 1, len(seq)):\n",
    "        s = sum(seq[start: i])\n",
    "        if s > target:\n",
    "            return contiguous_sum(seq, target, start + 1)\n",
    "        if s == target:\n",
    "            return start, i"
   ]
  },
  {
   "cell_type": "code",
   "execution_count": 20,
   "metadata": {},
   "outputs": [],
   "source": [
    "def second_vuln(seq, preamble_len):\n",
    "    i1, i2 = contiguous_sum(seq, first_vuln(seq, preamble_len))\n",
    "    subseq = sorted(seq[i1: i2])\n",
    "    return subseq[0] + subseq[-1]"
   ]
  },
  {
   "cell_type": "code",
   "execution_count": 21,
   "metadata": {},
   "outputs": [
    {
     "data": {
      "text/plain": [
       "5407707"
      ]
     },
     "execution_count": 21,
     "metadata": {},
     "output_type": "execute_result"
    }
   ],
   "source": [
    "second_vuln(seq, 25)"
   ]
  }
 ],
 "metadata": {
  "kernelspec": {
   "display_name": "Python 3",
   "language": "python",
   "name": "python3"
  },
  "language_info": {
   "codemirror_mode": {
    "name": "ipython",
    "version": 3
   },
   "file_extension": ".py",
   "mimetype": "text/x-python",
   "name": "python",
   "nbconvert_exporter": "python",
   "pygments_lexer": "ipython3",
   "version": "3.8.6"
  }
 },
 "nbformat": 4,
 "nbformat_minor": 4
}
