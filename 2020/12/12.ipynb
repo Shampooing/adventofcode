{
 "cells": [
  {
   "cell_type": "code",
   "execution_count": 1,
   "metadata": {},
   "outputs": [],
   "source": [
    "with open('input', 'r') as ifile:\n",
    "    instructions = [(instruction[0], int(instruction[1:])) for instruction in ifile.read().splitlines()]"
   ]
  },
  {
   "cell_type": "code",
   "execution_count": 2,
   "metadata": {},
   "outputs": [],
   "source": [
    "def rotate(x, y, angle):\n",
    "    if angle == 90:\n",
    "        return -y, x\n",
    "    if angle == 180:\n",
    "        return -x, -y\n",
    "    if angle == 270:\n",
    "        return y, -x"
   ]
  },
  {
   "cell_type": "code",
   "execution_count": 3,
   "metadata": {},
   "outputs": [],
   "source": [
    "def run_instructions(instructions, run_fn, position, direction):\n",
    "    if not instructions:\n",
    "        return position\n",
    "    (instr, qty), *rest = instructions\n",
    "    new_pos, new_dir = run_fn(instr, qty, position, direction)\n",
    "    return run_instructions(rest, run_fn, new_pos, new_dir)"
   ]
  },
  {
   "cell_type": "markdown",
   "metadata": {},
   "source": [
    "# Part 1"
   ]
  },
  {
   "cell_type": "code",
   "execution_count": 4,
   "metadata": {},
   "outputs": [],
   "source": [
    "def run(instr, qty, position, direction):\n",
    "    if instr in ['L', 'R']:\n",
    "        return position, rotate(*direction, (-qty % 360) if instr == 'R' else qty)\n",
    "    new_pos = (\n",
    "        (position[0] + qty * direction[0], position[1] + qty * direction[1]) if instr == 'F'\n",
    "        else (position[0] + qty * (1 if instr == 'E' else -1 if instr == 'W' else 0),\n",
    "              position[1] + qty * (1 if instr == 'N' else -1 if instr == 'S' else 0))\n",
    "    )\n",
    "    return new_pos, direction"
   ]
  },
  {
   "cell_type": "code",
   "execution_count": 5,
   "metadata": {
    "scrolled": true
   },
   "outputs": [
    {
     "data": {
      "text/plain": [
       "1133"
      ]
     },
     "execution_count": 5,
     "metadata": {},
     "output_type": "execute_result"
    }
   ],
   "source": [
    "sum(abs(pos) for pos in run_instructions(instructions, run, (0, 0), (1, 0)))"
   ]
  },
  {
   "cell_type": "markdown",
   "metadata": {},
   "source": [
    "# Part 2"
   ]
  },
  {
   "cell_type": "code",
   "execution_count": 6,
   "metadata": {},
   "outputs": [],
   "source": [
    "def run2(instr, qty, position, waypoint):\n",
    "    if instr in ['L', 'R']:\n",
    "        return position, rotate(*waypoint, (-qty % 360) if instr == 'R' else qty)\n",
    "    if instr == 'F':\n",
    "        return (position[0] + qty * waypoint[0], position[1] + qty * waypoint[1]), waypoint\n",
    "    new_waypoint = (waypoint[0] + qty * (1 if instr == 'E' else -1 if instr == 'W' else 0),\n",
    "                    waypoint[1] + qty * (1 if instr == 'N' else -1 if instr == 'S' else 0))\n",
    "    return position, new_waypoint"
   ]
  },
  {
   "cell_type": "code",
   "execution_count": 7,
   "metadata": {},
   "outputs": [
    {
     "data": {
      "text/plain": [
       "61053"
      ]
     },
     "execution_count": 7,
     "metadata": {},
     "output_type": "execute_result"
    }
   ],
   "source": [
    "sum(abs(pos) for pos in run_instructions(instructions, run2, (0, 0), (10, 1)))"
   ]
  }
 ],
 "metadata": {
  "kernelspec": {
   "display_name": "Python 3",
   "language": "python",
   "name": "python3"
  },
  "language_info": {
   "codemirror_mode": {
    "name": "ipython",
    "version": 3
   },
   "file_extension": ".py",
   "mimetype": "text/x-python",
   "name": "python",
   "nbconvert_exporter": "python",
   "pygments_lexer": "ipython3",
   "version": "3.8.6"
  }
 },
 "nbformat": 4,
 "nbformat_minor": 4
}
