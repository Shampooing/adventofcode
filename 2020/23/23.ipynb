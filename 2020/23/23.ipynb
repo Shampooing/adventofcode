{
 "cells": [
  {
   "cell_type": "code",
   "execution_count": 1,
   "metadata": {},
   "outputs": [],
   "source": [
    "class Circle:\n",
    "    def __init__(self, labels):\n",
    "        cups = {label: next_label\n",
    "                for label, next_label in zip(labels, labels[1:] + [labels[0]])}\n",
    "        self.cups = cups\n",
    "        self.current_cup = labels[0]\n",
    "        \n",
    "    def list_cups(self, start=None):\n",
    "        cup = start or self.current_cup\n",
    "        res = []\n",
    "        while cup not in res:\n",
    "            res.append(cup)\n",
    "            cup = self.cups[cup]\n",
    "        return res\n",
    "    \n",
    "    def move(self, source, n, dest):\n",
    "        ''' Moves the ``n`` cups right after ``source`` to right after ``dest``. '''\n",
    "        start_of_slice = self.cups[source]\n",
    "        end_of_slice = source\n",
    "        for _ in range(n):\n",
    "            end_of_slice = self.cups[end_of_slice]\n",
    "        after_destination = self.cups[dest]\n",
    "        \n",
    "        # source, start_of_slice, ..., end_of_slice, end_of_slice.next, ..., destination, after_destination, ...\n",
    "        self.cups[source] = self.cups[end_of_slice]\n",
    "        # source, end_of_slice.next, ..., destination, after_destination, ...\n",
    "        self.cups[dest] = start_of_slice\n",
    "        # source, end_of_slice.next, ..., destination, start_of_slice, ..., end_of_slice, after_destination, ...\n",
    "        self.cups[end_of_slice] = after_destination\n",
    "    \n",
    "    def crab_move(self, n=3):\n",
    "        cups_to_move = [self.cups[self.current_cup]]\n",
    "        for _ in range(n - 1):\n",
    "            cups_to_move.append(self.cups[cups_to_move[-1]])\n",
    "                        \n",
    "        _destination = next(cup for cup in (self.current_cup - 1 - i for i in range(len(self.cups)))\n",
    "                            if cup not in cups_to_move)\n",
    "        destination = (_destination if _destination in self.cups\n",
    "                       else max(l for l in self.cups if l not in cups_to_move))\n",
    "        self.move(self.current_cup, n, destination)\n",
    "        self.current_cup = self.cups[self.current_cup]        "
   ]
  },
  {
   "cell_type": "markdown",
   "metadata": {},
   "source": [
    "# Part 1"
   ]
  },
  {
   "cell_type": "code",
   "execution_count": 2,
   "metadata": {},
   "outputs": [
    {
     "name": "stdout",
     "output_type": "stream",
     "text": [
      "95648732\n"
     ]
    }
   ],
   "source": [
    "circle = Circle([int(c) for c in '368195742'])\n",
    "for i in range(100):\n",
    "    circle.crab_move()\n",
    "print(''.join(str(d) for d in circle.list_cups(1)[1:]))"
   ]
  },
  {
   "cell_type": "markdown",
   "metadata": {},
   "source": [
    "# Part 2"
   ]
  },
  {
   "cell_type": "code",
   "execution_count": 3,
   "metadata": {},
   "outputs": [],
   "source": [
    "circle = Circle([int(c) for c in '368195742'] + [i for i in range(10, int(1e6) + 1)])\n",
    "for _ in range(int(1e7)):\n",
    "    circle.crab_move()"
   ]
  },
  {
   "cell_type": "code",
   "execution_count": 4,
   "metadata": {},
   "outputs": [
    {
     "data": {
      "text/plain": [
       "192515314252"
      ]
     },
     "execution_count": 4,
     "metadata": {},
     "output_type": "execute_result"
    }
   ],
   "source": [
    "circle.cups[1] * circle.cups[circle.cups[1]]"
   ]
  }
 ],
 "metadata": {
  "kernelspec": {
   "display_name": "Python 3",
   "language": "python",
   "name": "python3"
  },
  "language_info": {
   "codemirror_mode": {
    "name": "ipython",
    "version": 3
   },
   "file_extension": ".py",
   "mimetype": "text/x-python",
   "name": "python",
   "nbconvert_exporter": "python",
   "pygments_lexer": "ipython3",
   "version": "3.8.6"
  }
 },
 "nbformat": 4,
 "nbformat_minor": 4
}
