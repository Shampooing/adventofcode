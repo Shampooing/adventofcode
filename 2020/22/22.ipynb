{
 "cells": [
  {
   "cell_type": "code",
   "execution_count": 1,
   "metadata": {},
   "outputs": [],
   "source": [
    "with open('input', 'r') as ifile:\n",
    "    _player1, _player2 = ifile.read().split('\\n\\n')\n",
    "    player1 = [int(card) for card in _player1.splitlines()[1:]]\n",
    "    player2 = [int(card) for card in _player2.splitlines()[1:]]"
   ]
  },
  {
   "cell_type": "markdown",
   "metadata": {},
   "source": [
    "# Part 1"
   ]
  },
  {
   "cell_type": "code",
   "execution_count": 2,
   "metadata": {},
   "outputs": [],
   "source": [
    "def combat_round(hand1, hand2):\n",
    "    card1, card2 = hand1[0], hand2[0]\n",
    "    if card1 > card2:\n",
    "        return hand1[1:] + (card1, card2), hand2[1:]\n",
    "    if card2 > card1:\n",
    "        return hand1[1:], hand2[1:] + (card2, card1)\n",
    "    raise ValueError(\"Invalid hands\")"
   ]
  },
  {
   "cell_type": "code",
   "execution_count": 3,
   "metadata": {},
   "outputs": [],
   "source": [
    "hand1, hand2 = tuple(player1), tuple(player2)"
   ]
  },
  {
   "cell_type": "code",
   "execution_count": 4,
   "metadata": {},
   "outputs": [],
   "source": [
    "while hand1 and hand2:\n",
    "    hand1, hand2 = combat_round(hand1, hand2)"
   ]
  },
  {
   "cell_type": "code",
   "execution_count": 5,
   "metadata": {},
   "outputs": [
    {
     "data": {
      "text/plain": [
       "31308"
      ]
     },
     "execution_count": 5,
     "metadata": {},
     "output_type": "execute_result"
    }
   ],
   "source": [
    "sum(card * mult for card, mult in zip(hand1 + hand2, range(len(hand1 + hand2), 0, -1)))"
   ]
  },
  {
   "cell_type": "markdown",
   "metadata": {},
   "source": [
    "# Part 2"
   ]
  },
  {
   "cell_type": "code",
   "execution_count": 6,
   "metadata": {},
   "outputs": [],
   "source": [
    "def recursive_combat(hand1, hand2, seen_before=set()):\n",
    "    if (hand1, hand2) in seen_before:\n",
    "        return 1, hand1\n",
    "    if not hand1:\n",
    "        return 2, hand2\n",
    "    if not hand2:\n",
    "        return 1, hand1    \n",
    "    new_seen = seen_before | {(hand1, hand2)}\n",
    "    card1, rest1, card2, rest2 = hand1[0], hand1[1:], hand2[0], hand2[1:]\n",
    "    if len(rest1) >= card1 and len(rest2) >= card2:  # spawn a sub-game\n",
    "        sub_hand1, sub_hand2 = rest1[:card1], rest2[:card2]\n",
    "        winner = recursive_combat(sub_hand1, sub_hand2, seen_before=set())[0]\n",
    "        new_hand1 = rest1 + ((card1, card2) if winner == 1 else ())\n",
    "        new_hand2 = rest2 + ((card2, card1) if winner == 2 else ())\n",
    "    else:  # regular Combat round\n",
    "        new_hand1, new_hand2 = combat_round(hand1, hand2)        \n",
    "    return recursive_combat(new_hand1, new_hand2, new_seen)"
   ]
  },
  {
   "cell_type": "code",
   "execution_count": 7,
   "metadata": {},
   "outputs": [],
   "source": [
    "import sys"
   ]
  },
  {
   "cell_type": "code",
   "execution_count": 8,
   "metadata": {},
   "outputs": [
    {
     "data": {
      "text/plain": [
       "33647"
      ]
     },
     "execution_count": 8,
     "metadata": {},
     "output_type": "execute_result"
    }
   ],
   "source": [
    "sys.setrecursionlimit(int(1e6))  # don't do this at home\n",
    "winning_hand = recursive_combat(tuple(player1), tuple(player2))[1]\n",
    "sum(card * mult for card, mult in zip(winning_hand, range(len(winning_hand), 0, -1)))"
   ]
  }
 ],
 "metadata": {
  "kernelspec": {
   "display_name": "Python 3",
   "language": "python",
   "name": "python3"
  },
  "language_info": {
   "codemirror_mode": {
    "name": "ipython",
    "version": 3
   },
   "file_extension": ".py",
   "mimetype": "text/x-python",
   "name": "python",
   "nbconvert_exporter": "python",
   "pygments_lexer": "ipython3",
   "version": "3.8.6"
  }
 },
 "nbformat": 4,
 "nbformat_minor": 4
}
