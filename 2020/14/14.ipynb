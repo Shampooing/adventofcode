{
 "cells": [
  {
   "cell_type": "code",
   "execution_count": 1,
   "metadata": {},
   "outputs": [],
   "source": [
    "with open('input', 'r') as ifile:\n",
    "    instructions = [line.split(' = ') for line in ifile.read().splitlines()]"
   ]
  },
  {
   "cell_type": "markdown",
   "metadata": {},
   "source": [
    "# Part 1"
   ]
  },
  {
   "cell_type": "code",
   "execution_count": 2,
   "metadata": {},
   "outputs": [],
   "source": [
    "def apply_mask(mask, value):\n",
    "    binary = \"{:036b}\".format(value)\n",
    "    return int(''.join(binary[i] if mask[i] == 'X' else mask[i]\n",
    "                       for i in range(len(mask))),\n",
    "               base=2)"
   ]
  },
  {
   "cell_type": "code",
   "execution_count": 3,
   "metadata": {},
   "outputs": [],
   "source": [
    "class Program:\n",
    "    def __init__(self, instructions):\n",
    "        self.instructions = instructions\n",
    "        self.state = {}\n",
    "        self.mask = 'X' * 36\n",
    "        \n",
    "    def _run(self, instruction, value):\n",
    "        if instruction == 'mask':\n",
    "            self.mask = value\n",
    "        else:  # instruction == 'mem[<address>]'\n",
    "            address = int(instruction[4:-1])\n",
    "            self.state[address] = apply_mask(self.mask, int(value))\n",
    "            \n",
    "    def run(self):\n",
    "        for instruction, value in self.instructions:\n",
    "            self._run(instruction, value)\n",
    "        return self.state"
   ]
  },
  {
   "cell_type": "code",
   "execution_count": 4,
   "metadata": {},
   "outputs": [
    {
     "data": {
      "text/plain": [
       "9615006043476"
      ]
     },
     "execution_count": 4,
     "metadata": {},
     "output_type": "execute_result"
    }
   ],
   "source": [
    "sum(Program(instructions).run().values())"
   ]
  },
  {
   "cell_type": "markdown",
   "metadata": {},
   "source": [
    "# Part 2"
   ]
  },
  {
   "cell_type": "code",
   "execution_count": 5,
   "metadata": {},
   "outputs": [],
   "source": [
    "def expand_floating(floating_address):\n",
    "    if 'X' not in floating_address:\n",
    "        return [floating_address]\n",
    "    expand_zero, expand_one = floating_address.replace('X', '0', 1), floating_address.replace('X', '1', 1)\n",
    "    return expand_floating(expand_zero) + expand_floating(expand_one)"
   ]
  },
  {
   "cell_type": "code",
   "execution_count": 6,
   "metadata": {},
   "outputs": [],
   "source": [
    "def apply_mask2(mask, address):\n",
    "    binary = \"{:036b}\".format(address)\n",
    "    floating = ''.join(binary[i] if mask[i] == '0' else mask[i]\n",
    "                       for i in range(len(mask)))\n",
    "    return [int(expanded, base=2) for expanded in expand_floating(floating)]"
   ]
  },
  {
   "cell_type": "code",
   "execution_count": 7,
   "metadata": {},
   "outputs": [],
   "source": [
    "class Program2(Program):        \n",
    "    def _run(self, instruction, value):\n",
    "        if instruction == 'mask':\n",
    "            self.mask = value\n",
    "        else:  # instruction == 'mem[<address>]'\n",
    "            for address in apply_mask2(self.mask, int(instruction[4:-1])):\n",
    "                self.state[address] = int(value)"
   ]
  },
  {
   "cell_type": "code",
   "execution_count": 8,
   "metadata": {},
   "outputs": [
    {
     "data": {
      "text/plain": [
       "4275496544925"
      ]
     },
     "execution_count": 8,
     "metadata": {},
     "output_type": "execute_result"
    }
   ],
   "source": [
    "sum(Program2(instructions).run().values())"
   ]
  }
 ],
 "metadata": {
  "kernelspec": {
   "display_name": "Python 3",
   "language": "python",
   "name": "python3"
  },
  "language_info": {
   "codemirror_mode": {
    "name": "ipython",
    "version": 3
   },
   "file_extension": ".py",
   "mimetype": "text/x-python",
   "name": "python",
   "nbconvert_exporter": "python",
   "pygments_lexer": "ipython3",
   "version": "3.8.6"
  }
 },
 "nbformat": 4,
 "nbformat_minor": 4
}
