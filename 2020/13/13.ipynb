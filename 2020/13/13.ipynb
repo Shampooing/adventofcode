{
 "cells": [
  {
   "cell_type": "code",
   "execution_count": 1,
   "metadata": {},
   "outputs": [],
   "source": [
    "with open('input', 'r') as ifile:\n",
    "    arrival_time_str, bus_schedule_str = ifile.read().splitlines()\n",
    "    arrival_time = int(arrival_time_str)\n",
    "    bus_schedule = [int(s) if s != 'x' else None for s in bus_schedule_str.split(',')]"
   ]
  },
  {
   "cell_type": "markdown",
   "metadata": {},
   "source": [
    "# Part 1"
   ]
  },
  {
   "cell_type": "code",
   "execution_count": 2,
   "metadata": {},
   "outputs": [],
   "source": [
    "first_bus = min([s for s in bus_schedule if s],\n",
    "                key=lambda bus_freq: bus_freq * (arrival_time // bus_freq + 1))"
   ]
  },
  {
   "cell_type": "code",
   "execution_count": 3,
   "metadata": {},
   "outputs": [
    {
     "data": {
      "text/plain": [
       "2305"
      ]
     },
     "execution_count": 3,
     "metadata": {},
     "output_type": "execute_result"
    }
   ],
   "source": [
    "first_bus * (first_bus - (arrival_time % first_bus))"
   ]
  },
  {
   "cell_type": "markdown",
   "metadata": {},
   "source": [
    "# Part 2"
   ]
  },
  {
   "cell_type": "markdown",
   "metadata": {},
   "source": [
    "References in https://en.wikipedia.org/wiki/Chinese_remainder_theorem#Search_by_sieving."
   ]
  },
  {
   "cell_type": "code",
   "execution_count": 4,
   "metadata": {},
   "outputs": [],
   "source": [
    "offsets = sorted([(s, (s - i) % s) for (i, s) in enumerate(bus_schedule) if s], reverse=True)"
   ]
  },
  {
   "cell_type": "code",
   "execution_count": 5,
   "metadata": {},
   "outputs": [],
   "source": [
    "def intersect_progressions(a1, b1, a2, b2):\n",
    "    '''\n",
    "    Returns (a, b) such that a * N + b = (a1 * N + b1) \\intersect (a2 * N + b2).\n",
    "    Assumes a1 > a2 and gcd(a1, a2) == 1.\n",
    "    '''\n",
    "    b = b1\n",
    "    while b % a2 != b2:\n",
    "        b += a1\n",
    "    return (a1 * a2, b)"
   ]
  },
  {
   "cell_type": "code",
   "execution_count": 6,
   "metadata": {},
   "outputs": [],
   "source": [
    "from functools import reduce"
   ]
  },
  {
   "cell_type": "code",
   "execution_count": 7,
   "metadata": {},
   "outputs": [
    {
     "data": {
      "text/plain": [
       "552612234243498"
      ]
     },
     "execution_count": 7,
     "metadata": {},
     "output_type": "execute_result"
    }
   ],
   "source": [
    "reduce(lambda prog1, prog2: intersect_progressions(*prog1, *prog2), offsets)[1]"
   ]
  }
 ],
 "metadata": {
  "kernelspec": {
   "display_name": "Python 3",
   "language": "python",
   "name": "python3"
  },
  "language_info": {
   "codemirror_mode": {
    "name": "ipython",
    "version": 3
   },
   "file_extension": ".py",
   "mimetype": "text/x-python",
   "name": "python",
   "nbconvert_exporter": "python",
   "pygments_lexer": "ipython3",
   "version": "3.8.6"
  }
 },
 "nbformat": 4,
 "nbformat_minor": 4
}
