{
 "cells": [
  {
   "cell_type": "code",
   "execution_count": 1,
   "metadata": {},
   "outputs": [],
   "source": [
    "with open('input', 'r') as ifile:\n",
    "    initial_state = tuple(tuple(seat for seat in row) for row in ifile.read().splitlines())"
   ]
  },
  {
   "cell_type": "code",
   "execution_count": 2,
   "metadata": {},
   "outputs": [],
   "source": [
    "def adjacent_indexes(seating_zone_shape, i, j):\n",
    "    return [(ii, jj) for (ii, jj) in ((i-1, j-1), (i-1, j), (i-1, j+1),\n",
    "                                      (i, j-1),             (i, j+1),\n",
    "                                      (i+1, j-1), (i+1, j), (i+1, j+1))\n",
    "           if 0 <= ii < seating_zone_shape[0] and 0 <= jj < seating_zone_shape[1]]"
   ]
  },
  {
   "cell_type": "code",
   "execution_count": 3,
   "metadata": {},
   "outputs": [],
   "source": [
    "def adjacent_seats(state, i, j):\n",
    "    return [state[ii][jj] for (ii, jj) in adjacent_indexes((len(state), len(state[0])), i, j)]"
   ]
  },
  {
   "cell_type": "code",
   "execution_count": 4,
   "metadata": {},
   "outputs": [],
   "source": [
    "def next_state(state):\n",
    "    return tuple(tuple((\n",
    "        ('#') if (seat == 'L' and not any(s == '#' for s in adjacent_seats(state, i, j)))\n",
    "        else ('L') if (seat == '#' and len([s for s in adjacent_seats(state, i, j) if s == '#']) >= 4)\n",
    "        else seat)\n",
    "        for (j, seat) in enumerate(row)\n",
    "    ) for (i, row) in enumerate(state))"
   ]
  },
  {
   "cell_type": "code",
   "execution_count": 5,
   "metadata": {},
   "outputs": [],
   "source": [
    "def run_until_stable(init_state):\n",
    "    state = init_state\n",
    "    new_state = next_state(state)\n",
    "    while new_state != state:\n",
    "        state = new_state\n",
    "        new_state = next_state(state)\n",
    "    return state"
   ]
  },
  {
   "cell_type": "code",
   "execution_count": 6,
   "metadata": {},
   "outputs": [
    {
     "data": {
      "text/plain": [
       "2265"
      ]
     },
     "execution_count": 6,
     "metadata": {},
     "output_type": "execute_result"
    }
   ],
   "source": [
    "len([1 for row in run_until_stable(initial_state) for seat in row if seat == '#'])"
   ]
  },
  {
   "cell_type": "markdown",
   "metadata": {},
   "source": [
    "# Part 2"
   ]
  },
  {
   "cell_type": "code",
   "execution_count": 7,
   "metadata": {},
   "outputs": [],
   "source": [
    "def closest_visible_seat(state, i, j, direction):\n",
    "    try:\n",
    "        return next(s for s in (state[i + d * direction[0]][j + d * direction[1]]\n",
    "                                for d in range(1, 2 * max(len(state), len(state[0])))\n",
    "                                if 0 <= i + d * direction[0] < len(state)\n",
    "                                and 0 <= j + d * direction[1] < len(state[0]))\n",
    "                    if s != '.')\n",
    "    except StopIteration:\n",
    "        return None"
   ]
  },
  {
   "cell_type": "code",
   "execution_count": 8,
   "metadata": {},
   "outputs": [],
   "source": [
    "def closest_occupied_seats(state, i, j):           \n",
    "    return [s for s in (closest_visible_seat(state, i, j, direction)\n",
    "                        for direction in ((-1, 0), (-1, -1), (0, -1), (1, -1),\n",
    "                                          (1, 0), (1, 1), (0, 1), (-1, 1)))\n",
    "           if s == '#']"
   ]
  },
  {
   "cell_type": "code",
   "execution_count": 9,
   "metadata": {},
   "outputs": [],
   "source": [
    "def next_state2(state):\n",
    "    return tuple(tuple((\n",
    "        ('#') if (seat == 'L' and not any(s == '#' for s in closest_occupied_seats(state, i, j)))\n",
    "        else ('L') if (seat == '#' and len(closest_occupied_seats(state, i, j)) >= 5)\n",
    "        else seat)\n",
    "        for (j, seat) in enumerate(row)\n",
    "    ) for (i, row) in enumerate(state))"
   ]
  },
  {
   "cell_type": "code",
   "execution_count": 10,
   "metadata": {},
   "outputs": [],
   "source": [
    "def run_until_stable2(init_state):\n",
    "    state = init_state\n",
    "    new_state = next_state2(state)\n",
    "    while new_state != state:\n",
    "        state = new_state\n",
    "        new_state = next_state2(state)\n",
    "    return state"
   ]
  },
  {
   "cell_type": "code",
   "execution_count": 11,
   "metadata": {},
   "outputs": [
    {
     "data": {
      "text/plain": [
       "2045"
      ]
     },
     "execution_count": 11,
     "metadata": {},
     "output_type": "execute_result"
    }
   ],
   "source": [
    "len([1 for row in run_until_stable2(initial_state) for seat in row if seat == '#'])"
   ]
  }
 ],
 "metadata": {
  "kernelspec": {
   "display_name": "Python 3",
   "language": "python",
   "name": "python3"
  },
  "language_info": {
   "codemirror_mode": {
    "name": "ipython",
    "version": 3
   },
   "file_extension": ".py",
   "mimetype": "text/x-python",
   "name": "python",
   "nbconvert_exporter": "python",
   "pygments_lexer": "ipython3",
   "version": "3.8.6"
  }
 },
 "nbformat": 4,
 "nbformat_minor": 4
}
