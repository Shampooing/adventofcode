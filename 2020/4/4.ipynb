{
 "cells": [
  {
   "cell_type": "code",
   "execution_count": 10,
   "metadata": {},
   "outputs": [],
   "source": [
    "import re"
   ]
  },
  {
   "cell_type": "code",
   "execution_count": 22,
   "metadata": {},
   "outputs": [],
   "source": [
    "with open('input', 'r') as ifile:\n",
    "    data = [{kvstring.split(':')[0]: kvstring.split(':')[1] for kvstring in re.split(' |\\n', passport) if kvstring} for passport in ifile.read().split('\\n\\n')]"
   ]
  },
  {
   "cell_type": "code",
   "execution_count": 44,
   "metadata": {},
   "outputs": [],
   "source": [
    "mand = { 'byr', 'iyr', 'eyr', 'hgt', 'hcl', 'ecl', 'pid' }"
   ]
  },
  {
   "cell_type": "markdown",
   "metadata": {},
   "source": [
    "# Part 1"
   ]
  },
  {
   "cell_type": "code",
   "execution_count": 45,
   "metadata": {},
   "outputs": [
    {
     "data": {
      "text/plain": [
       "204"
      ]
     },
     "execution_count": 45,
     "metadata": {},
     "output_type": "execute_result"
    }
   ],
   "source": [
    "len([1 for passport in data if mand.issubset(passport)])"
   ]
  },
  {
   "cell_type": "markdown",
   "metadata": {},
   "source": [
    "# Part 2"
   ]
  },
  {
   "cell_type": "code",
   "execution_count": 67,
   "metadata": {},
   "outputs": [],
   "source": [
    "rules = {\n",
    "    'byr': lambda val: len(val) == 4 and 1920 <= int(val) <= 2002,\n",
    "    'iyr': lambda val: len(val) == 4 and 2010 <= int(val) <= 2020,\n",
    "    'eyr': lambda val: len(val) == 4 and 2020 <= int(val) <= 2030,\n",
    "    'hgt': lambda val: (150 <= int(val[:-2]) <= 193) if val.endswith('cm') else (59 <= int(val[:-2]) <= 76) if val.endswith('in') else False,\n",
    "    'hcl': lambda val: re.match('#[0-9, a-f]{6}', val),\n",
    "    'ecl': lambda val: val in { 'amb', 'blu', 'brn', 'gry', 'grn', 'hzl', 'oth' },\n",
    "    'pid': lambda val: re.match('[0-9]{9}$', val),\n",
    "    'cid': lambda _: True,\n",
    "}"
   ]
  },
  {
   "cell_type": "code",
   "execution_count": 70,
   "metadata": {},
   "outputs": [
    {
     "data": {
      "text/plain": [
       "179"
      ]
     },
     "execution_count": 70,
     "metadata": {},
     "output_type": "execute_result"
    }
   ],
   "source": [
    "len([1 for passport in data if mand.issubset(passport) and all(rules[key](val) for key, val in passport.items())])"
   ]
  }
 ],
 "metadata": {
  "kernelspec": {
   "display_name": "Python 3",
   "language": "python",
   "name": "python3"
  },
  "language_info": {
   "codemirror_mode": {
    "name": "ipython",
    "version": 3
   },
   "file_extension": ".py",
   "mimetype": "text/x-python",
   "name": "python",
   "nbconvert_exporter": "python",
   "pygments_lexer": "ipython3",
   "version": "3.8.6"
  }
 },
 "nbformat": 4,
 "nbformat_minor": 4
}
