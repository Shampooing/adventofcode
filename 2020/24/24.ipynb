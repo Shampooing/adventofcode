{
 "cells": [
  {
   "cell_type": "code",
   "execution_count": 1,
   "metadata": {},
   "outputs": [],
   "source": [
    "with open('input', 'r') as ifile:\n",
    "    instructions = ifile.read().splitlines()"
   ]
  },
  {
   "cell_type": "code",
   "execution_count": 2,
   "metadata": {},
   "outputs": [],
   "source": [
    "class Point:\n",
    "    def __init__(self, *coord):\n",
    "        self.coord = coord\n",
    "        \n",
    "    def __add__(self, other):\n",
    "        return Point(*(coord_self + coord_other\n",
    "                       for coord_self, coord_other in zip(self.coord, other.coord)))"
   ]
  },
  {
   "cell_type": "code",
   "execution_count": 3,
   "metadata": {},
   "outputs": [],
   "source": [
    "instruction_set = {\n",
    "    # Orient the plane along axes 'e' and 'northeast'\n",
    "    'e': Point(1, 0),\n",
    "    'se': Point(1, -1),\n",
    "    'sw': Point(0, -1),\n",
    "    'w': Point(-1, 0),\n",
    "    'nw': Point(-1, 1),\n",
    "    'ne': Point(0, 1),\n",
    "}"
   ]
  },
  {
   "cell_type": "code",
   "execution_count": 4,
   "metadata": {},
   "outputs": [],
   "source": [
    "def parse_instructions(instruction_string):\n",
    "    _skip = False\n",
    "    instructions = []\n",
    "    for char in instruction_string:\n",
    "        if _skip:\n",
    "            instructions[-1] += char\n",
    "            _skip = False\n",
    "            continue\n",
    "        if char not in instruction_set:\n",
    "            _skip = True\n",
    "        instructions.append(char)\n",
    "    return instructions"
   ]
  },
  {
   "cell_type": "code",
   "execution_count": 5,
   "metadata": {},
   "outputs": [],
   "source": [
    "def follow(instructions, start=Point(0, 0)):\n",
    "    return sum((instruction_set[instruction] for instruction in instructions), start)"
   ]
  },
  {
   "cell_type": "code",
   "execution_count": 6,
   "metadata": {},
   "outputs": [],
   "source": [
    "flipped_tiles = set()\n",
    "for tile in (follow(parse_instructions(instruction)).coord for instruction in instructions):\n",
    "    flipped_tiles.symmetric_difference_update({tile})"
   ]
  },
  {
   "cell_type": "markdown",
   "metadata": {},
   "source": [
    "# Part 1"
   ]
  },
  {
   "cell_type": "code",
   "execution_count": 7,
   "metadata": {},
   "outputs": [
    {
     "data": {
      "text/plain": [
       "473"
      ]
     },
     "execution_count": 7,
     "metadata": {},
     "output_type": "execute_result"
    }
   ],
   "source": [
    "len(flipped_tiles)"
   ]
  },
  {
   "cell_type": "markdown",
   "metadata": {},
   "source": [
    "# Part 2"
   ]
  },
  {
   "cell_type": "code",
   "execution_count": 8,
   "metadata": {},
   "outputs": [],
   "source": [
    "def neighbours(*coord):\n",
    "    return {follow([instruction], start=Point(*coord)).coord for instruction in instruction_set}"
   ]
  },
  {
   "cell_type": "code",
   "execution_count": 9,
   "metadata": {},
   "outputs": [],
   "source": [
    "def live(state):\n",
    "    black_to_flip = {tile for tile in state\n",
    "                     if len(neighbours(*tile).intersection(state)) not in [1, 2]}\n",
    "    white_to_flip = {tile for tile in set.union(*(neighbours(*black_tile)\n",
    "                                                  for black_tile in state)).difference(state)\n",
    "                     if len(neighbours(*tile).intersection(state)) == 2}\n",
    "    return state - black_to_flip | white_to_flip"
   ]
  },
  {
   "cell_type": "code",
   "execution_count": 10,
   "metadata": {},
   "outputs": [],
   "source": [
    "state = flipped_tiles\n",
    "for _ in range(100):\n",
    "    state = live(state)"
   ]
  },
  {
   "cell_type": "code",
   "execution_count": 11,
   "metadata": {},
   "outputs": [
    {
     "data": {
      "text/plain": [
       "4070"
      ]
     },
     "execution_count": 11,
     "metadata": {},
     "output_type": "execute_result"
    }
   ],
   "source": [
    "len(state)"
   ]
  }
 ],
 "metadata": {
  "kernelspec": {
   "display_name": "Python 3",
   "language": "python",
   "name": "python3"
  },
  "language_info": {
   "codemirror_mode": {
    "name": "ipython",
    "version": 3
   },
   "file_extension": ".py",
   "mimetype": "text/x-python",
   "name": "python",
   "nbconvert_exporter": "python",
   "pygments_lexer": "ipython3",
   "version": "3.8.6"
  }
 },
 "nbformat": 4,
 "nbformat_minor": 4
}
