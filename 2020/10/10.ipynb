{
 "cells": [
  {
   "cell_type": "code",
   "execution_count": 1,
   "metadata": {},
   "outputs": [],
   "source": [
    "with open('input', 'r') as ifile:\n",
    "    adapters = { int(r) for r in ifile.read().splitlines() }"
   ]
  },
  {
   "cell_type": "markdown",
   "metadata": {},
   "source": [
    "# Part 1"
   ]
  },
  {
   "cell_type": "code",
   "execution_count": 2,
   "metadata": {},
   "outputs": [],
   "source": [
    "def grouped_diffs(seq):\n",
    "    res = {}\n",
    "    for d in (seq[i + 1] - seq[i] for i in range(len(seq) - 1)):\n",
    "        if d not in res:\n",
    "            res[d] = 1\n",
    "        else:\n",
    "            res[d] += 1\n",
    "    return res"
   ]
  },
  {
   "cell_type": "code",
   "execution_count": 3,
   "metadata": {},
   "outputs": [],
   "source": [
    "adapter_diffs = grouped_diffs(sorted(adapters))"
   ]
  },
  {
   "cell_type": "code",
   "execution_count": 4,
   "metadata": {},
   "outputs": [
    {
     "data": {
      "text/plain": [
       "3034"
      ]
     },
     "execution_count": 4,
     "metadata": {},
     "output_type": "execute_result"
    }
   ],
   "source": [
    "(adapter_diffs[1] + 1) * (adapter_diffs[3] + 1)  # +1 for charging outlet and device's adapter respectively"
   ]
  },
  {
   "cell_type": "markdown",
   "metadata": {},
   "source": [
    "# Part 2"
   ]
  },
  {
   "cell_type": "code",
   "execution_count": 5,
   "metadata": {},
   "outputs": [],
   "source": [
    "import functools"
   ]
  },
  {
   "cell_type": "code",
   "execution_count": 6,
   "metadata": {},
   "outputs": [],
   "source": [
    "@functools.lru_cache(maxsize=None)\n",
    "def n_arrangements(adapters, target):            \n",
    "    if not adapters:\n",
    "        return 1\n",
    "    \n",
    "    # Get the adapters that are within 3 jolts of the target (there can be at most 3).\n",
    "    candidate_adapter_indexes = [i for i in (-1, -2, -3) if abs(i) <= len(adapters) and target - adapters[i] <= 3]\n",
    "    \n",
    "    return sum(n_arrangements(adapters[:i], adapters[i]) for i in candidate_adapter_indexes)"
   ]
  },
  {
   "cell_type": "code",
   "execution_count": 7,
   "metadata": {},
   "outputs": [
    {
     "data": {
      "text/plain": [
       "259172170858496"
      ]
     },
     "execution_count": 7,
     "metadata": {},
     "output_type": "execute_result"
    }
   ],
   "source": [
    "n_arrangements((0,) + tuple(sorted(adapters)), max(adapters) + 3)"
   ]
  }
 ],
 "metadata": {
  "kernelspec": {
   "display_name": "Python 3",
   "language": "python",
   "name": "python3"
  },
  "language_info": {
   "codemirror_mode": {
    "name": "ipython",
    "version": 3
   },
   "file_extension": ".py",
   "mimetype": "text/x-python",
   "name": "python",
   "nbconvert_exporter": "python",
   "pygments_lexer": "ipython3",
   "version": "3.8.6"
  }
 },
 "nbformat": 4,
 "nbformat_minor": 4
}
