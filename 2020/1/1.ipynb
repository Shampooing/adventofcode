{
 "cells": [
  {
   "cell_type": "code",
   "execution_count": 3,
   "metadata": {},
   "outputs": [],
   "source": [
    "with open('input', 'r') as ifile:\n",
    "    numbers = [int(s) for s in ifile]"
   ]
  },
  {
   "cell_type": "code",
   "execution_count": 4,
   "metadata": {},
   "outputs": [],
   "source": [
    "sn = sorted(numbers)"
   ]
  },
  {
   "cell_type": "code",
   "execution_count": 5,
   "metadata": {},
   "outputs": [
    {
     "name": "stdout",
     "output_type": "stream",
     "text": [
      "279 1741 485739\n"
     ]
    }
   ],
   "source": [
    "start_index = 0\n",
    "end_index = len(sn) - 1\n",
    "while end_index > start_index:\n",
    "    if sn[start_index] + sn[end_index] > 2020:\n",
    "        end_index -= 1\n",
    "        continue\n",
    "    if sn[start_index] + sn[end_index] < 2020:\n",
    "        start_index += 1\n",
    "        continue\n",
    "    break\n",
    "print(sn[start_index], sn[end_index], sn[start_index] * sn[end_index])"
   ]
  },
  {
   "cell_type": "markdown",
   "metadata": {},
   "source": [
    "Functional style:"
   ]
  },
  {
   "cell_type": "code",
   "execution_count": 6,
   "metadata": {},
   "outputs": [],
   "source": [
    "def sum_2(l, target):\n",
    "    if len(l) < 2:\n",
    "        return None\n",
    "    if l[0] + l[-1] > target:\n",
    "        return sum_2(l[:-1], target)\n",
    "    if l[0] + l[-1] < target:\n",
    "        return sum_2(l[1:], target)\n",
    "    return l[0], l[-1]"
   ]
  },
  {
   "cell_type": "code",
   "execution_count": 7,
   "metadata": {},
   "outputs": [
    {
     "data": {
      "text/plain": [
       "(279, 1741)"
      ]
     },
     "execution_count": 7,
     "metadata": {},
     "output_type": "execute_result"
    }
   ],
   "source": [
    "sum_2(sn, 2020)"
   ]
  },
  {
   "cell_type": "markdown",
   "metadata": {},
   "source": [
    "# Part 2"
   ]
  },
  {
   "cell_type": "code",
   "execution_count": 8,
   "metadata": {},
   "outputs": [],
   "source": [
    "def sum_3(l, target):\n",
    "    if len(l) < 3:\n",
    "        return -1\n",
    "    s2 = sum_2(l[1:], target - l[0])\n",
    "    if s2:\n",
    "        return (l[0], *s2)\n",
    "    return sum_3(l[1:], target)"
   ]
  },
  {
   "cell_type": "code",
   "execution_count": 9,
   "metadata": {},
   "outputs": [
    {
     "data": {
      "text/plain": [
       "(257, 494, 1269)"
      ]
     },
     "execution_count": 9,
     "metadata": {},
     "output_type": "execute_result"
    }
   ],
   "source": [
    "sum_3(sn, 2020)"
   ]
  },
  {
   "cell_type": "code",
   "execution_count": null,
   "metadata": {},
   "outputs": [],
   "source": []
  }
 ],
 "metadata": {
  "kernelspec": {
   "display_name": "Python 3",
   "language": "python",
   "name": "python3"
  },
  "language_info": {
   "codemirror_mode": {
    "name": "ipython",
    "version": 3
   },
   "file_extension": ".py",
   "mimetype": "text/x-python",
   "name": "python",
   "nbconvert_exporter": "python",
   "pygments_lexer": "ipython3",
   "version": "3.8.6"
  }
 },
 "nbformat": 4,
 "nbformat_minor": 4
}
