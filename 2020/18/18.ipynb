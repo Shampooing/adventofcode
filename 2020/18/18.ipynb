{
 "cells": [
  {
   "cell_type": "code",
   "execution_count": 1,
   "metadata": {},
   "outputs": [],
   "source": [
    "from operator import add, mul"
   ]
  },
  {
   "cell_type": "code",
   "execution_count": 2,
   "metadata": {},
   "outputs": [],
   "source": [
    "with open('input', 'r') as ifile:\n",
    "    homework = ifile.read().replace(' ', '').splitlines()"
   ]
  },
  {
   "cell_type": "markdown",
   "metadata": {},
   "source": [
    "# Part 1"
   ]
  },
  {
   "cell_type": "code",
   "execution_count": 3,
   "metadata": {},
   "outputs": [],
   "source": [
    "def rightmost_operator_index_or_none(expression):\n",
    "    '''\n",
    "    Index of the rightmost operator in ``expression`` that is not inside parentheses,\n",
    "    if any.\n",
    "    '''\n",
    "    parenthesis_depth = 0\n",
    "    for i, char in enumerate(expression[::-1]):\n",
    "        if char == ')':\n",
    "            parenthesis_depth += 1\n",
    "            continue\n",
    "        if char == '(':\n",
    "            parenthesis_depth -= 1\n",
    "            continue\n",
    "        if char in ['+', '*'] and not parenthesis_depth:\n",
    "            return len(expression) - 1 - i"
   ]
  },
  {
   "cell_type": "code",
   "execution_count": 4,
   "metadata": {},
   "outputs": [],
   "source": [
    "def evaluate(expression):\n",
    "    if '+' not in expression and '*' not in expression:\n",
    "        return int(expression)\n",
    "    op_index = rightmost_operator_index_or_none(expression)\n",
    "    if not op_index:\n",
    "        # If we don't find an operator outside parentheses at this stage,\n",
    "        # it can only mean that ``expression`` is itself wrapped in parentheses.\n",
    "        return evaluate(expression[1: -1])\n",
    "    return (add if expression[op_index] == '+' else mul)(evaluate(expression[:op_index]),\n",
    "                                                         evaluate(expression[op_index + 1:]))"
   ]
  },
  {
   "cell_type": "code",
   "execution_count": 5,
   "metadata": {},
   "outputs": [
    {
     "data": {
      "text/plain": [
       "1451467526514"
      ]
     },
     "execution_count": 5,
     "metadata": {},
     "output_type": "execute_result"
    }
   ],
   "source": [
    "sum(evaluate(expr) for expr in homework)"
   ]
  },
  {
   "cell_type": "markdown",
   "metadata": {},
   "source": [
    "# Part 2"
   ]
  },
  {
   "cell_type": "markdown",
   "metadata": {},
   "source": [
    "We define a class for which ``*`` and ``+`` are switched, in order to make use of python's built-in precedence of ``*`` over ``+``."
   ]
  },
  {
   "cell_type": "code",
   "execution_count": 6,
   "metadata": {},
   "outputs": [],
   "source": [
    "class SwitchedPrecedenceExpression:\n",
    "    def __init__(self, val):\n",
    "        self.val = val\n",
    "        \n",
    "    def __add__(self, other):\n",
    "        return SwitchedPrecedenceExpression(int(self.val) * int(other.val))\n",
    "    \n",
    "    def __mul__(self, other):\n",
    "        return SwitchedPrecedenceExpression(int(self.val) + int(other.val))"
   ]
  },
  {
   "cell_type": "code",
   "execution_count": 7,
   "metadata": {},
   "outputs": [],
   "source": [
    "import re"
   ]
  },
  {
   "cell_type": "markdown",
   "metadata": {},
   "source": [
    "Replace all litterals by SwitchedPrecedenceExpression objects and swap ``+`` and ``*``:"
   ]
  },
  {
   "cell_type": "code",
   "execution_count": 8,
   "metadata": {},
   "outputs": [],
   "source": [
    "def _convert_litterals(expression):\n",
    "    return re.sub(\n",
    "        '\\d+',\n",
    "        lambda match: 'SwitchedPrecedenceExpression({})'.format(match.group(0)),\n",
    "        expression\n",
    "    )"
   ]
  },
  {
   "cell_type": "code",
   "execution_count": 9,
   "metadata": {},
   "outputs": [
    {
     "data": {
      "text/plain": [
       "224973686321527"
      ]
     },
     "execution_count": 9,
     "metadata": {},
     "output_type": "execute_result"
    }
   ],
   "source": [
    "sum(eval(_convert_litterals(switched_row)).val\n",
    "    for switched_row in (row.replace('+', '^').replace('*', '+').replace('^', '*')  # switcheroo\n",
    "                         for row in homework))"
   ]
  }
 ],
 "metadata": {
  "kernelspec": {
   "display_name": "Python 3",
   "language": "python",
   "name": "python3"
  },
  "language_info": {
   "codemirror_mode": {
    "name": "ipython",
    "version": 3
   },
   "file_extension": ".py",
   "mimetype": "text/x-python",
   "name": "python",
   "nbconvert_exporter": "python",
   "pygments_lexer": "ipython3",
   "version": "3.8.6"
  }
 },
 "nbformat": 4,
 "nbformat_minor": 4
}
