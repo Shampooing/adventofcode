{
 "cells": [
  {
   "cell_type": "code",
   "execution_count": 1,
   "metadata": {},
   "outputs": [],
   "source": [
    "def infer_allergens(data):\n",
    "    res = {}\n",
    "    allergens = {allergen for _, _allergens in data for allergen in _allergens}\n",
    "    matches = [(allergen, set.intersection(*(set(recipe) for recipe, recipe_allergens in data\n",
    "                                            if allergen in recipe_allergens)))\n",
    "               for allergen in allergens]\n",
    "    while matches:\n",
    "        allergen, ingredients = matches.pop(next(i for i in range(len(matches)) if len(matches[i][1]) == 1))\n",
    "        ingredient = ingredients.pop()\n",
    "        res[allergen] = ingredient\n",
    "        for i in range(len(matches)):\n",
    "            matches[i][1].discard(ingredient)  # remove if present, otherwise do nothing    \n",
    "    return res"
   ]
  },
  {
   "cell_type": "code",
   "execution_count": 2,
   "metadata": {},
   "outputs": [],
   "source": [
    "with open('input', 'r') as ifile:\n",
    "    data = [[ingredients.split(), allergens.split(', ')]\n",
    "            for ingredients, allergens in (line[:-1].split(' (contains ')\n",
    "                                           for line in ifile.read().splitlines())]"
   ]
  },
  {
   "cell_type": "code",
   "execution_count": 3,
   "metadata": {},
   "outputs": [],
   "source": [
    "allergens = infer_allergens(data)"
   ]
  },
  {
   "cell_type": "markdown",
   "metadata": {},
   "source": [
    "# Part 1"
   ]
  },
  {
   "cell_type": "code",
   "execution_count": 4,
   "metadata": {},
   "outputs": [
    {
     "data": {
      "text/plain": [
       "2485"
      ]
     },
     "execution_count": 4,
     "metadata": {},
     "output_type": "execute_result"
    }
   ],
   "source": [
    "len([1 for ingredients, _ in data for ingredient in ingredients if ingredient not in allergens.values()])"
   ]
  },
  {
   "cell_type": "markdown",
   "metadata": {},
   "source": [
    "# Part 2"
   ]
  },
  {
   "cell_type": "code",
   "execution_count": 5,
   "metadata": {},
   "outputs": [
    {
     "data": {
      "text/plain": [
       "'bqkndvb,zmb,bmrmhm,snhrpv,vflms,bqtvr,qzkjrtl,rkkrx'"
      ]
     },
     "execution_count": 5,
     "metadata": {},
     "output_type": "execute_result"
    }
   ],
   "source": [
    "','.join(ingredient for _, ingredient in sorted((allergen, ingredient)\n",
    "                                                for allergen, ingredient in allergens.items()))"
   ]
  }
 ],
 "metadata": {
  "kernelspec": {
   "display_name": "Python 3",
   "language": "python",
   "name": "python3"
  },
  "language_info": {
   "codemirror_mode": {
    "name": "ipython",
    "version": 3
   },
   "file_extension": ".py",
   "mimetype": "text/x-python",
   "name": "python",
   "nbconvert_exporter": "python",
   "pygments_lexer": "ipython3",
   "version": "3.8.6"
  }
 },
 "nbformat": 4,
 "nbformat_minor": 4
}
