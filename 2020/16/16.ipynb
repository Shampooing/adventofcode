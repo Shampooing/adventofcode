{
 "cells": [
  {
   "cell_type": "code",
   "execution_count": 1,
   "metadata": {},
   "outputs": [],
   "source": [
    "with open('input', 'r') as ifile:\n",
    "    _rules, _myticket, _tickets = ifile.read().split('\\n\\n')\n",
    "rules = {field: [(int(low), int(upp)) for low, upp in (_range.split('-') for _range in r.split(' or '))]\n",
    "         for field, r in (row.split(': ') for row in _rules.split('\\n'))}\n",
    "myticket = [int(val) for val in _myticket.split('\\n')[1].split(',')]\n",
    "tickets = [[int(val) for val in ticket.split(',')] for ticket in _tickets.splitlines()[1:]]"
   ]
  },
  {
   "cell_type": "markdown",
   "metadata": {},
   "source": [
    "# Part 1"
   ]
  },
  {
   "cell_type": "code",
   "execution_count": 2,
   "metadata": {},
   "outputs": [
    {
     "data": {
      "text/plain": [
       "29878"
      ]
     },
     "execution_count": 2,
     "metadata": {},
     "output_type": "execute_result"
    }
   ],
   "source": [
    "sum(val for ticket in tickets for val in ticket\n",
    "    if not any(_min <= val <= _max for rule in rules for _min, _max in rules[rule]))"
   ]
  },
  {
   "cell_type": "markdown",
   "metadata": {},
   "source": [
    "# Part 2"
   ]
  },
  {
   "cell_type": "code",
   "execution_count": 3,
   "metadata": {},
   "outputs": [],
   "source": [
    "valid_tickets = [ticket for ticket in tickets\n",
    "                 if all(any(_min <= val <= _max for rule in rules for _min, _max in rules[rule])\n",
    "                        for val in ticket)]"
   ]
  },
  {
   "cell_type": "code",
   "execution_count": 4,
   "metadata": {},
   "outputs": [],
   "source": [
    "def explore(options, i):\n",
    "    already_visited = sum((previous_choice for _, previous_choice in options[:i]), [])\n",
    "    return [(options[:i]\n",
    "             + [(options[i][0], [explored_choice])]\n",
    "             + [(k, [choice for choice in choices if choice not in already_visited + [explored_choice]])\n",
    "                for k, choices in options[i + 1:]])\n",
    "            for explored_choice in options[i][1]]"
   ]
  },
  {
   "cell_type": "code",
   "execution_count": 5,
   "metadata": {},
   "outputs": [],
   "source": [
    "def derive_mapping(options):\n",
    "    if not all(choices for _, choices in options):\n",
    "        return None    \n",
    "    if all(len(choices) == 1 for _, choices in options):\n",
    "        if len(set(_mapping[0] for _, _mapping in options for field in _mapping)) < len(options):\n",
    "            return None\n",
    "        return [(j, choices[0]) for j, choices in options]\n",
    "    i = next(i for i, (_, choices) in enumerate(options) if len(choices) > 1)\n",
    "    return next((mapping for mapping in (derive_mapping(_options)\n",
    "                                         for _options in explore(options, i))\n",
    "                 if mapping),\n",
    "                None)"
   ]
  },
  {
   "cell_type": "code",
   "execution_count": 6,
   "metadata": {},
   "outputs": [],
   "source": [
    "options = [(j, [field_name for field_name, ranges in rules.items()\n",
    "            if all(any(_min <= ticket[j] <= _max for _min, _max in ranges) for ticket in valid_tickets)])\n",
    "           for j in range(len(tickets[0]))]"
   ]
  },
  {
   "cell_type": "code",
   "execution_count": 7,
   "metadata": {},
   "outputs": [],
   "source": [
    "from functools import reduce"
   ]
  },
  {
   "cell_type": "code",
   "execution_count": 8,
   "metadata": {},
   "outputs": [
    {
     "data": {
      "text/plain": [
       "855438643439"
      ]
     },
     "execution_count": 8,
     "metadata": {},
     "output_type": "execute_result"
    }
   ],
   "source": [
    "reduce(lambda x, y: x * y,\n",
    "       (myticket[i] for i, field in derive_mapping(sorted(options, key=lambda t: len(t[1])))\n",
    "        if field.startswith('departure')))"
   ]
  }
 ],
 "metadata": {
  "kernelspec": {
   "display_name": "Python 3",
   "language": "python",
   "name": "python3"
  },
  "language_info": {
   "codemirror_mode": {
    "name": "ipython",
    "version": 3
   },
   "file_extension": ".py",
   "mimetype": "text/x-python",
   "name": "python",
   "nbconvert_exporter": "python",
   "pygments_lexer": "ipython3",
   "version": "3.8.6"
  }
 },
 "nbformat": 4,
 "nbformat_minor": 4
}
